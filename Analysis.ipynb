{
 "cells": [
  {
   "cell_type": "markdown",
   "metadata": {},
   "source": [
    "# Information\n",
    "\n",
    "## Amazon data\n",
    "* [Kaggle](https://www.kaggle.com/snap/amazon-fine-food-reviews)\n",
    "* product info: GET amazon.com/dp/B00006HAXW\n",
    "* [More data!](http://jmcauley.ucsd.edu/data/amazon/)\n",
    "\n",
    "## Action Plan\n",
    "\n",
    "Small Data sample:\n",
    "1. Explore Data\n",
    "2. Collaborative Filtering\n",
    "3. Sentiment Analysis\n",
    "4. Seq2Seq summarizer\n",
    "5. Web interface\n",
    "\n",
    "Large Data samples:\n",
    "* Implement above pipeline"
   ]
  },
  {
   "cell_type": "markdown",
   "metadata": {},
   "source": [
    "## Data Discovery"
   ]
  },
  {
   "cell_type": "code",
   "execution_count": 1,
   "metadata": {},
   "outputs": [],
   "source": [
    "import pandas as pd\n",
    "import numpy as np"
   ]
  },
  {
   "cell_type": "code",
   "execution_count": 90,
   "metadata": {},
   "outputs": [],
   "source": [
    "data = pd.read_csv('data/Reviews.csv', index_col='Id')\n",
    "books_data = pd.read_csv('data/ratings_Books.csv', header=None)"
   ]
  },
  {
   "cell_type": "code",
   "execution_count": 91,
   "metadata": {},
   "outputs": [
    {
     "data": {
      "text/html": [
       "<div>\n",
       "<style>\n",
       "    .dataframe thead tr:only-child th {\n",
       "        text-align: right;\n",
       "    }\n",
       "\n",
       "    .dataframe thead th {\n",
       "        text-align: left;\n",
       "    }\n",
       "\n",
       "    .dataframe tbody tr th {\n",
       "        vertical-align: top;\n",
       "    }\n",
       "</style>\n",
       "<table border=\"1\" class=\"dataframe\">\n",
       "  <thead>\n",
       "    <tr style=\"text-align: right;\">\n",
       "      <th></th>\n",
       "      <th>0</th>\n",
       "      <th>1</th>\n",
       "      <th>2</th>\n",
       "      <th>3</th>\n",
       "    </tr>\n",
       "  </thead>\n",
       "  <tbody>\n",
       "    <tr>\n",
       "      <th>0</th>\n",
       "      <td>AH2L9G3DQHHAJ</td>\n",
       "      <td>0000000116</td>\n",
       "      <td>4.0</td>\n",
       "      <td>1019865600</td>\n",
       "    </tr>\n",
       "    <tr>\n",
       "      <th>1</th>\n",
       "      <td>A2IIIDRK3PRRZY</td>\n",
       "      <td>0000000116</td>\n",
       "      <td>1.0</td>\n",
       "      <td>1395619200</td>\n",
       "    </tr>\n",
       "    <tr>\n",
       "      <th>2</th>\n",
       "      <td>A1TADCM7YWPQ8M</td>\n",
       "      <td>0000000868</td>\n",
       "      <td>4.0</td>\n",
       "      <td>1031702400</td>\n",
       "    </tr>\n",
       "    <tr>\n",
       "      <th>3</th>\n",
       "      <td>AWGH7V0BDOJKB</td>\n",
       "      <td>0000013714</td>\n",
       "      <td>4.0</td>\n",
       "      <td>1383177600</td>\n",
       "    </tr>\n",
       "    <tr>\n",
       "      <th>4</th>\n",
       "      <td>A3UTQPQPM4TQO0</td>\n",
       "      <td>0000013714</td>\n",
       "      <td>5.0</td>\n",
       "      <td>1374883200</td>\n",
       "    </tr>\n",
       "  </tbody>\n",
       "</table>\n",
       "</div>"
      ],
      "text/plain": [
       "                0           1    2           3\n",
       "0   AH2L9G3DQHHAJ  0000000116  4.0  1019865600\n",
       "1  A2IIIDRK3PRRZY  0000000116  1.0  1395619200\n",
       "2  A1TADCM7YWPQ8M  0000000868  4.0  1031702400\n",
       "3   AWGH7V0BDOJKB  0000013714  4.0  1383177600\n",
       "4  A3UTQPQPM4TQO0  0000013714  5.0  1374883200"
      ]
     },
     "execution_count": 91,
     "metadata": {},
     "output_type": "execute_result"
    }
   ],
   "source": [
    "books_data.head()"
   ]
  },
  {
   "cell_type": "code",
   "execution_count": 4,
   "metadata": {},
   "outputs": [
    {
     "data": {
      "text/plain": [
       "Index(['ProductId', 'UserId', 'ProfileName', 'HelpfulnessNumerator',\n",
       "       'HelpfulnessDenominator', 'Score', 'Time', 'Summary', 'Text'],\n",
       "      dtype='object')"
      ]
     },
     "execution_count": 4,
     "metadata": {},
     "output_type": "execute_result"
    }
   ],
   "source": [
    "data.columns"
   ]
  },
  {
   "cell_type": "code",
   "execution_count": 5,
   "metadata": {},
   "outputs": [
    {
     "data": {
      "text/html": [
       "<div>\n",
       "<style>\n",
       "    .dataframe thead tr:only-child th {\n",
       "        text-align: right;\n",
       "    }\n",
       "\n",
       "    .dataframe thead th {\n",
       "        text-align: left;\n",
       "    }\n",
       "\n",
       "    .dataframe tbody tr th {\n",
       "        vertical-align: top;\n",
       "    }\n",
       "</style>\n",
       "<table border=\"1\" class=\"dataframe\">\n",
       "  <thead>\n",
       "    <tr style=\"text-align: right;\">\n",
       "      <th></th>\n",
       "      <th>HelpfulnessNumerator</th>\n",
       "      <th>HelpfulnessDenominator</th>\n",
       "      <th>Score</th>\n",
       "      <th>Time</th>\n",
       "    </tr>\n",
       "  </thead>\n",
       "  <tbody>\n",
       "    <tr>\n",
       "      <th>count</th>\n",
       "      <td>568454.000000</td>\n",
       "      <td>568454.00000</td>\n",
       "      <td>568454.000000</td>\n",
       "      <td>5.684540e+05</td>\n",
       "    </tr>\n",
       "    <tr>\n",
       "      <th>mean</th>\n",
       "      <td>1.743817</td>\n",
       "      <td>2.22881</td>\n",
       "      <td>4.183199</td>\n",
       "      <td>1.296257e+09</td>\n",
       "    </tr>\n",
       "    <tr>\n",
       "      <th>std</th>\n",
       "      <td>7.636513</td>\n",
       "      <td>8.28974</td>\n",
       "      <td>1.310436</td>\n",
       "      <td>4.804331e+07</td>\n",
       "    </tr>\n",
       "    <tr>\n",
       "      <th>min</th>\n",
       "      <td>0.000000</td>\n",
       "      <td>0.00000</td>\n",
       "      <td>1.000000</td>\n",
       "      <td>9.393408e+08</td>\n",
       "    </tr>\n",
       "    <tr>\n",
       "      <th>25%</th>\n",
       "      <td>0.000000</td>\n",
       "      <td>0.00000</td>\n",
       "      <td>4.000000</td>\n",
       "      <td>1.271290e+09</td>\n",
       "    </tr>\n",
       "    <tr>\n",
       "      <th>50%</th>\n",
       "      <td>0.000000</td>\n",
       "      <td>1.00000</td>\n",
       "      <td>5.000000</td>\n",
       "      <td>1.311120e+09</td>\n",
       "    </tr>\n",
       "    <tr>\n",
       "      <th>75%</th>\n",
       "      <td>2.000000</td>\n",
       "      <td>2.00000</td>\n",
       "      <td>5.000000</td>\n",
       "      <td>1.332720e+09</td>\n",
       "    </tr>\n",
       "    <tr>\n",
       "      <th>max</th>\n",
       "      <td>866.000000</td>\n",
       "      <td>923.00000</td>\n",
       "      <td>5.000000</td>\n",
       "      <td>1.351210e+09</td>\n",
       "    </tr>\n",
       "  </tbody>\n",
       "</table>\n",
       "</div>"
      ],
      "text/plain": [
       "       HelpfulnessNumerator  HelpfulnessDenominator          Score  \\\n",
       "count         568454.000000            568454.00000  568454.000000   \n",
       "mean               1.743817                 2.22881       4.183199   \n",
       "std                7.636513                 8.28974       1.310436   \n",
       "min                0.000000                 0.00000       1.000000   \n",
       "25%                0.000000                 0.00000       4.000000   \n",
       "50%                0.000000                 1.00000       5.000000   \n",
       "75%                2.000000                 2.00000       5.000000   \n",
       "max              866.000000               923.00000       5.000000   \n",
       "\n",
       "               Time  \n",
       "count  5.684540e+05  \n",
       "mean   1.296257e+09  \n",
       "std    4.804331e+07  \n",
       "min    9.393408e+08  \n",
       "25%    1.271290e+09  \n",
       "50%    1.311120e+09  \n",
       "75%    1.332720e+09  \n",
       "max    1.351210e+09  "
      ]
     },
     "execution_count": 5,
     "metadata": {},
     "output_type": "execute_result"
    }
   ],
   "source": [
    "data.describe()"
   ]
  },
  {
   "cell_type": "code",
   "execution_count": 6,
   "metadata": {
    "collapsed": true
   },
   "outputs": [],
   "source": [
    "from collections import Counter"
   ]
  },
  {
   "cell_type": "code",
   "execution_count": 7,
   "metadata": {},
   "outputs": [
    {
     "name": "stdout",
     "output_type": "stream",
     "text": [
      "[('B007JFMH8M', 913), ('B002QWP89S', 632), ('B0026RQTGE', 632), ('B002QWHJOU', 632), ('B002QWP8H0', 632), ('B003B3OOPA', 623), ('B001EO5Q64', 567), ('B0013NUGDE', 564), ('B007M83302', 564), ('B000VK8AVK', 564)]\n",
      "Length: 74258\n"
     ]
    }
   ],
   "source": [
    "product_counts = Counter(data['ProductId'])\n",
    "print(product_counts.most_common(10))\n",
    "print('Length: {}'.format(len(product_counts)))"
   ]
  },
  {
   "cell_type": "code",
   "execution_count": 8,
   "metadata": {},
   "outputs": [
    {
     "name": "stdout",
     "output_type": "stream",
     "text": [
      "[('A3OXHLG6DIBRW8', 448), ('A1YUL9PCJR3JTY', 421), ('AY12DBB0U420B', 389), ('A281NPSIMI1C2R', 365), ('A1Z54EM24Y40LL', 256), ('A1TMAVN4CEM8U8', 204), ('A2MUGFV2TDQ47K', 201), ('A3TVZM3ZIXG8YW', 199), ('A3PJZ8TU8FDQ1K', 178), ('AQQLWCMRNDFGI', 176)]\n",
      "Length: 256059\n"
     ]
    }
   ],
   "source": [
    "user_counts = Counter(data['UserId'])\n",
    "print(user_counts.most_common(10))\n",
    "print('Length: {}'.format(len(user_counts)))"
   ]
  },
  {
   "cell_type": "markdown",
   "metadata": {},
   "source": []
  },
  {
   "cell_type": "markdown",
   "metadata": {},
   "source": [
    "## 1. Collaborative Filtering"
   ]
  },
  {
   "cell_type": "markdown",
   "metadata": {},
   "source": [
    "### Basic filtering based on user score"
   ]
  },
  {
   "cell_type": "code",
   "execution_count": 9,
   "metadata": {},
   "outputs": [],
   "source": [
    "ratings = data[['ProductId', 'UserId', 'Score']]"
   ]
  },
  {
   "cell_type": "code",
   "execution_count": 10,
   "metadata": {},
   "outputs": [
    {
     "data": {
      "text/html": [
       "<div>\n",
       "<style>\n",
       "    .dataframe thead tr:only-child th {\n",
       "        text-align: right;\n",
       "    }\n",
       "\n",
       "    .dataframe thead th {\n",
       "        text-align: left;\n",
       "    }\n",
       "\n",
       "    .dataframe tbody tr th {\n",
       "        vertical-align: top;\n",
       "    }\n",
       "</style>\n",
       "<table border=\"1\" class=\"dataframe\">\n",
       "  <thead>\n",
       "    <tr style=\"text-align: right;\">\n",
       "      <th></th>\n",
       "      <th>ProductId</th>\n",
       "      <th>UserId</th>\n",
       "      <th>Score</th>\n",
       "    </tr>\n",
       "    <tr>\n",
       "      <th>Id</th>\n",
       "      <th></th>\n",
       "      <th></th>\n",
       "      <th></th>\n",
       "    </tr>\n",
       "  </thead>\n",
       "  <tbody>\n",
       "    <tr>\n",
       "      <th>1</th>\n",
       "      <td>B001E4KFG0</td>\n",
       "      <td>A3SGXH7AUHU8GW</td>\n",
       "      <td>5</td>\n",
       "    </tr>\n",
       "    <tr>\n",
       "      <th>2</th>\n",
       "      <td>B00813GRG4</td>\n",
       "      <td>A1D87F6ZCVE5NK</td>\n",
       "      <td>1</td>\n",
       "    </tr>\n",
       "    <tr>\n",
       "      <th>3</th>\n",
       "      <td>B000LQOCH0</td>\n",
       "      <td>ABXLMWJIXXAIN</td>\n",
       "      <td>4</td>\n",
       "    </tr>\n",
       "    <tr>\n",
       "      <th>4</th>\n",
       "      <td>B000UA0QIQ</td>\n",
       "      <td>A395BORC6FGVXV</td>\n",
       "      <td>2</td>\n",
       "    </tr>\n",
       "    <tr>\n",
       "      <th>5</th>\n",
       "      <td>B006K2ZZ7K</td>\n",
       "      <td>A1UQRSCLF8GW1T</td>\n",
       "      <td>5</td>\n",
       "    </tr>\n",
       "  </tbody>\n",
       "</table>\n",
       "</div>"
      ],
      "text/plain": [
       "     ProductId          UserId  Score\n",
       "Id                                   \n",
       "1   B001E4KFG0  A3SGXH7AUHU8GW      5\n",
       "2   B00813GRG4  A1D87F6ZCVE5NK      1\n",
       "3   B000LQOCH0   ABXLMWJIXXAIN      4\n",
       "4   B000UA0QIQ  A395BORC6FGVXV      2\n",
       "5   B006K2ZZ7K  A1UQRSCLF8GW1T      5"
      ]
     },
     "execution_count": 10,
     "metadata": {},
     "output_type": "execute_result"
    }
   ],
   "source": [
    "ratings.head()"
   ]
  },
  {
   "cell_type": "code",
   "execution_count": 11,
   "metadata": {},
   "outputs": [],
   "source": [
    "users = ratings['UserId'].unique()\n",
    "products = ratings['ProductId'].unique()"
   ]
  },
  {
   "cell_type": "code",
   "execution_count": 74,
   "metadata": {},
   "outputs": [],
   "source": [
    "userid2idx = {o:i for i,o in enumerate(users)}\n",
    "productid2idx = {o:i for i,o in enumerate(products)}\n",
    "idx2usedid = {i:o for i,o in enumerate(users)}\n",
    "idx2productid = {i:o for i,o in enumerate(products)}"
   ]
  },
  {
   "cell_type": "markdown",
   "metadata": {},
   "source": [
    "We update the user and product ids to be continous integers, which we want when using embeddings"
   ]
  },
  {
   "cell_type": "code",
   "execution_count": 13,
   "metadata": {
    "scrolled": true
   },
   "outputs": [
    {
     "name": "stderr",
     "output_type": "stream",
     "text": [
      "/home/mark/.conda/envs/dl/lib/python3.6/site-packages/ipykernel_launcher.py:1: SettingWithCopyWarning: \n",
      "A value is trying to be set on a copy of a slice from a DataFrame.\n",
      "Try using .loc[row_indexer,col_indexer] = value instead\n",
      "\n",
      "See the caveats in the documentation: http://pandas.pydata.org/pandas-docs/stable/indexing.html#indexing-view-versus-copy\n",
      "  \"\"\"Entry point for launching an IPython kernel.\n",
      "/home/mark/.conda/envs/dl/lib/python3.6/site-packages/ipykernel_launcher.py:2: SettingWithCopyWarning: \n",
      "A value is trying to be set on a copy of a slice from a DataFrame.\n",
      "Try using .loc[row_indexer,col_indexer] = value instead\n",
      "\n",
      "See the caveats in the documentation: http://pandas.pydata.org/pandas-docs/stable/indexing.html#indexing-view-versus-copy\n",
      "  \n"
     ]
    },
    {
     "data": {
      "text/html": [
       "<div>\n",
       "<style>\n",
       "    .dataframe thead tr:only-child th {\n",
       "        text-align: right;\n",
       "    }\n",
       "\n",
       "    .dataframe thead th {\n",
       "        text-align: left;\n",
       "    }\n",
       "\n",
       "    .dataframe tbody tr th {\n",
       "        vertical-align: top;\n",
       "    }\n",
       "</style>\n",
       "<table border=\"1\" class=\"dataframe\">\n",
       "  <thead>\n",
       "    <tr style=\"text-align: right;\">\n",
       "      <th></th>\n",
       "      <th>Score</th>\n",
       "      <th>userId</th>\n",
       "      <th>productId</th>\n",
       "    </tr>\n",
       "    <tr>\n",
       "      <th>Id</th>\n",
       "      <th></th>\n",
       "      <th></th>\n",
       "      <th></th>\n",
       "    </tr>\n",
       "  </thead>\n",
       "  <tbody>\n",
       "    <tr>\n",
       "      <th>1</th>\n",
       "      <td>5</td>\n",
       "      <td>0</td>\n",
       "      <td>0</td>\n",
       "    </tr>\n",
       "    <tr>\n",
       "      <th>2</th>\n",
       "      <td>1</td>\n",
       "      <td>1</td>\n",
       "      <td>1</td>\n",
       "    </tr>\n",
       "    <tr>\n",
       "      <th>3</th>\n",
       "      <td>4</td>\n",
       "      <td>2</td>\n",
       "      <td>2</td>\n",
       "    </tr>\n",
       "    <tr>\n",
       "      <th>4</th>\n",
       "      <td>2</td>\n",
       "      <td>3</td>\n",
       "      <td>3</td>\n",
       "    </tr>\n",
       "    <tr>\n",
       "      <th>5</th>\n",
       "      <td>5</td>\n",
       "      <td>4</td>\n",
       "      <td>4</td>\n",
       "    </tr>\n",
       "  </tbody>\n",
       "</table>\n",
       "</div>"
      ],
      "text/plain": [
       "    Score  userId  productId\n",
       "Id                          \n",
       "1       5       0          0\n",
       "2       1       1          1\n",
       "3       4       2          2\n",
       "4       2       3          3\n",
       "5       5       4          4"
      ]
     },
     "execution_count": 13,
     "metadata": {},
     "output_type": "execute_result"
    }
   ],
   "source": [
    "ratings['userId'] = ratings['UserId'].apply(lambda x: userid2idx[x])\n",
    "ratings['productId'] = ratings['ProductId'].apply(lambda x: productid2idx[x])\n",
    "ratings = ratings.drop('UserId',1)\n",
    "ratings = ratings.drop('ProductId',1)\n",
    "ratings.head()"
   ]
  },
  {
   "cell_type": "code",
   "execution_count": 14,
   "metadata": {},
   "outputs": [],
   "source": [
    "def stats(column):\n",
    "    return print('Column: {}, Min {}, Max {}, Non-unique {}'.format(column,\n",
    "        ratings[column].min(), ratings[column].max(), ratings[column].nunique()))"
   ]
  },
  {
   "cell_type": "code",
   "execution_count": 15,
   "metadata": {},
   "outputs": [
    {
     "name": "stdout",
     "output_type": "stream",
     "text": [
      "Column: userId, Min 0, Max 256058, Non-unique 256059\n",
      "Column: productId, Min 0, Max 74257, Non-unique 74258\n"
     ]
    }
   ],
   "source": [
    "stats('userId')\n",
    "stats('productId')"
   ]
  },
  {
   "cell_type": "markdown",
   "metadata": {},
   "source": [
    "### Prepare dataset"
   ]
  },
  {
   "cell_type": "markdown",
   "metadata": {},
   "source": [
    "#### Hyperparameters"
   ]
  },
  {
   "cell_type": "code",
   "execution_count": 53,
   "metadata": {
    "collapsed": true
   },
   "outputs": [],
   "source": [
    "# number of latent factors\n",
    "n_factors = 50\n",
    "# learning rate\n",
    "learning_rate = 0.001\n",
    "# batch size\n",
    "batch_size = 256\n",
    "# number of epochs\n",
    "epochs = 20"
   ]
  },
  {
   "cell_type": "code",
   "execution_count": 17,
   "metadata": {
    "collapsed": true
   },
   "outputs": [],
   "source": [
    "np.random.seed = 42"
   ]
  },
  {
   "cell_type": "markdown",
   "metadata": {},
   "source": [
    "Randomly split into training (80%) and validation (20%) set"
   ]
  },
  {
   "cell_type": "code",
   "execution_count": 18,
   "metadata": {},
   "outputs": [
    {
     "name": "stdout",
     "output_type": "stream",
     "text": [
      "Training samples 455010 (0.800434160019984), Validation samples 113444 (0.19956583998001598)\n"
     ]
    }
   ],
   "source": [
    "msk = np.random.rand(len(ratings)) < 0.8\n",
    "train = ratings[msk]\n",
    "val = ratings[~msk]\n",
    "\n",
    "print('Training samples {} ({}), Validation samples {} ({})'.format(\n",
    "    len(train), len(train)/len(ratings), len(val), len(val)/len(ratings)))"
   ]
  },
  {
   "cell_type": "markdown",
   "metadata": {},
   "source": [
    "### First Model: Dot product\n",
    "The most basic approach is a dot product of a product embedding and a user embedding and add their respective biases."
   ]
  },
  {
   "cell_type": "code",
   "execution_count": 37,
   "metadata": {},
   "outputs": [],
   "source": [
    "from keras.layers import Input, Embedding, dot, Flatten, merge\n",
    "from keras.regularizers import l2\n",
    "from keras.models import Model\n",
    "from keras.optimizers import Adam"
   ]
  },
  {
   "cell_type": "code",
   "execution_count": 38,
   "metadata": {
    "collapsed": true
   },
   "outputs": [],
   "source": [
    "n_users = ratings.userId.nunique()\n",
    "n_products = ratings.productId.nunique()"
   ]
  },
  {
   "cell_type": "code",
   "execution_count": 39,
   "metadata": {
    "collapsed": true
   },
   "outputs": [],
   "source": [
    "def embedding_input(name, n_in, n_out, reg):\n",
    "    inp = Input(shape=(1,), dtype='int64', name=name)\n",
    "    emb = Embedding(n_in, n_out, input_length=1, W_regularizer=l2(reg))(inp)\n",
    "    return inp, emb"
   ]
  },
  {
   "cell_type": "code",
   "execution_count": 40,
   "metadata": {},
   "outputs": [
    {
     "name": "stderr",
     "output_type": "stream",
     "text": [
      "/home/mark/.conda/envs/dl/lib/python3.6/site-packages/ipykernel_launcher.py:3: UserWarning: Update your `Embedding` call to the Keras 2 API: `Embedding(256059, 50, input_length=1, embeddings_regularizer=<keras.reg...)`\n",
      "  This is separate from the ipykernel package so we can avoid doing imports until\n",
      "/home/mark/.conda/envs/dl/lib/python3.6/site-packages/ipykernel_launcher.py:3: UserWarning: Update your `Embedding` call to the Keras 2 API: `Embedding(74258, 50, input_length=1, embeddings_regularizer=<keras.reg...)`\n",
      "  This is separate from the ipykernel package so we can avoid doing imports until\n"
     ]
    }
   ],
   "source": [
    "user_in, user_emb = embedding_input('user_in', n_users, n_factors, 1e-4)\n",
    "prod_in, prod_emb = embedding_input('prod_in', n_products, n_factors, 1e-4)"
   ]
  },
  {
   "cell_type": "code",
   "execution_count": 41,
   "metadata": {
    "collapsed": true
   },
   "outputs": [],
   "source": [
    "def create_bias(inp, n_in):\n",
    "    x = Embedding(n_in, 1, input_length=1)(inp)\n",
    "    return Flatten()(x)"
   ]
  },
  {
   "cell_type": "code",
   "execution_count": 42,
   "metadata": {
    "collapsed": true
   },
   "outputs": [],
   "source": [
    "user_bias = create_bias(user_in, n_users)\n",
    "prod_bias = create_bias(prod_in, n_products)"
   ]
  },
  {
   "cell_type": "code",
   "execution_count": 51,
   "metadata": {},
   "outputs": [
    {
     "name": "stderr",
     "output_type": "stream",
     "text": [
      "/home/mark/.conda/envs/dl/lib/python3.6/site-packages/ipykernel_launcher.py:1: UserWarning: The `merge` function is deprecated and will be removed after 08/2017. Use instead layers from `keras.layers.merge`, e.g. `add`, `concatenate`, etc.\n",
      "  \"\"\"Entry point for launching an IPython kernel.\n",
      "/home/mark/.conda/envs/dl/lib/python3.6/site-packages/keras/legacy/layers.py:458: UserWarning: The `Merge` layer is deprecated and will be removed after 08/2017. Use instead layers from `keras.layers.merge`, e.g. `add`, `concatenate`, etc.\n",
      "  name=name)\n",
      "/home/mark/.conda/envs/dl/lib/python3.6/site-packages/ipykernel_launcher.py:3: UserWarning: The `merge` function is deprecated and will be removed after 08/2017. Use instead layers from `keras.layers.merge`, e.g. `add`, `concatenate`, etc.\n",
      "  This is separate from the ipykernel package so we can avoid doing imports until\n",
      "/home/mark/.conda/envs/dl/lib/python3.6/site-packages/ipykernel_launcher.py:4: UserWarning: The `merge` function is deprecated and will be removed after 08/2017. Use instead layers from `keras.layers.merge`, e.g. `add`, `concatenate`, etc.\n",
      "  after removing the cwd from sys.path.\n"
     ]
    }
   ],
   "source": [
    "x = merge([user_emb, prod_emb], mode='dot')\n",
    "x = Flatten()(x)\n",
    "x = merge([x, user_bias], mode='sum')\n",
    "x = merge([x, prod_bias], mode='sum')\n",
    "\n",
    "model = Model([user_in, prod_in], x)\n",
    "model.compile(Adam(learning_rate), loss='mse', metrics=['accuracy'])"
   ]
  },
  {
   "cell_type": "code",
   "execution_count": 52,
   "metadata": {},
   "outputs": [
    {
     "name": "stdout",
     "output_type": "stream",
     "text": [
      "Train on 455010 samples, validate on 113444 samples\n",
      "Epoch 1/20\n",
      "455010/455010 [==============================] - 22s - loss: 5.5608 - acc: 0.1436 - val_loss: 6.4827 - val_acc: 0.1274\n",
      "Epoch 2/20\n",
      "455010/455010 [==============================] - 22s - loss: 5.0462 - acc: 0.1677 - val_loss: 6.0528 - val_acc: 0.1489\n",
      "Epoch 3/20\n",
      "455010/455010 [==============================] - 22s - loss: 4.5957 - acc: 0.1960 - val_loss: 5.6888 - val_acc: 0.1697\n",
      "Epoch 4/20\n",
      "455010/455010 [==============================] - 22s - loss: 4.2058 - acc: 0.2220 - val_loss: 5.3744 - val_acc: 0.1869\n",
      "Epoch 5/20\n",
      "455010/455010 [==============================] - 22s - loss: 3.8639 - acc: 0.2463 - val_loss: 5.0991 - val_acc: 0.2041\n",
      "Epoch 6/20\n",
      "455010/455010 [==============================] - 22s - loss: 3.5613 - acc: 0.2699 - val_loss: 4.8562 - val_acc: 0.2229\n",
      "Epoch 7/20\n",
      "455010/455010 [==============================] - 22s - loss: 3.2918 - acc: 0.2922 - val_loss: 4.6406 - val_acc: 0.2398\n",
      "Epoch 8/20\n",
      "455010/455010 [==============================] - 22s - loss: 3.0503 - acc: 0.3131 - val_loss: 4.4482 - val_acc: 0.2543\n",
      "Epoch 9/20\n",
      "455010/455010 [==============================] - 22s - loss: 2.8330 - acc: 0.3310 - val_loss: 4.2760 - val_acc: 0.2670\n",
      "Epoch 10/20\n",
      "455010/455010 [==============================] - 22s - loss: 2.6368 - acc: 0.3480 - val_loss: 4.1213 - val_acc: 0.2777\n",
      "Epoch 11/20\n",
      "455010/455010 [==============================] - 22s - loss: 2.4592 - acc: 0.3646 - val_loss: 3.9820 - val_acc: 0.2868\n",
      "Epoch 12/20\n",
      "455010/455010 [==============================] - 22s - loss: 2.2979 - acc: 0.3801 - val_loss: 3.8560 - val_acc: 0.2960\n",
      "Epoch 13/20\n",
      "455010/455010 [==============================] - 22s - loss: 2.1510 - acc: 0.3953 - val_loss: 3.7421 - val_acc: 0.3043\n",
      "Epoch 14/20\n",
      "455010/455010 [==============================] - 22s - loss: 2.0171 - acc: 0.4101 - val_loss: 3.6386 - val_acc: 0.3123\n",
      "Epoch 15/20\n",
      "455010/455010 [==============================] - 22s - loss: 1.8945 - acc: 0.4242 - val_loss: 3.5448 - val_acc: 0.3205\n",
      "Epoch 16/20\n",
      "455010/455010 [==============================] - 22s - loss: 1.7821 - acc: 0.4381 - val_loss: 3.4589 - val_acc: 0.3277\n",
      "Epoch 17/20\n",
      "455010/455010 [==============================] - 22s - loss: 1.6788 - acc: 0.4522 - val_loss: 3.3806 - val_acc: 0.3342\n",
      "Epoch 18/20\n",
      "455010/455010 [==============================] - 22s - loss: 1.5836 - acc: 0.4663 - val_loss: 3.3091 - val_acc: 0.3405\n",
      "Epoch 19/20\n",
      "455010/455010 [==============================] - 22s - loss: 1.4958 - acc: 0.4796 - val_loss: 3.2437 - val_acc: 0.3459\n",
      "Epoch 20/20\n",
      "455010/455010 [==============================] - 22s - loss: 1.4147 - acc: 0.4926 - val_loss: 3.1837 - val_acc: 0.3513\n"
     ]
    },
    {
     "data": {
      "text/plain": [
       "<keras.callbacks.History at 0x7f77043a37f0>"
      ]
     },
     "execution_count": 52,
     "metadata": {},
     "output_type": "execute_result"
    }
   ],
   "source": [
    "model.fit([train.userId, train.productId], train.Score, batch_size=batch_size,\n",
    "          epochs=epochs, validation_data=([val.userId, val.productId], val.Score))"
   ]
  },
  {
   "cell_type": "code",
   "execution_count": 154,
   "metadata": {},
   "outputs": [],
   "source": [
    "model.save_weights('models/dot.h5')\n",
    "with open('models/dot.json', 'w') as f:\n",
    "    f.write(model.to_json())\n",
    "f.close()"
   ]
  },
  {
   "cell_type": "markdown",
   "metadata": {},
   "source": [
    "### Analyze Results"
   ]
  },
  {
   "cell_type": "code",
   "execution_count": 56,
   "metadata": {
    "collapsed": true
   },
   "outputs": [],
   "source": [
    "model.load_weights('models/dot.h5')"
   ]
  },
  {
   "cell_type": "markdown",
   "metadata": {},
   "source": [
    "We'll restrict to the top 1000 products"
   ]
  },
  {
   "cell_type": "code",
   "execution_count": 57,
   "metadata": {
    "collapsed": true
   },
   "outputs": [],
   "source": [
    "g = ratings.groupby('productId')['Score'].count()\n",
    "top_prods = g.sort_values(ascending=False)[:1000]\n",
    "top_prods = np.array(top_prods.index)"
   ]
  },
  {
   "cell_type": "markdown",
   "metadata": {},
   "source": [
    "#### A look at the product bias term. "
   ]
  },
  {
   "cell_type": "code",
   "execution_count": 59,
   "metadata": {},
   "outputs": [],
   "source": [
    "get_prod_bias = Model(prod_in, prod_bias)\n",
    "product_bias = get_prod_bias.predict(top_prods)\n",
    "prod_scores = [(b[0], i) for i,b in zip(top_prods, product_bias)]"
   ]
  },
  {
   "cell_type": "markdown",
   "metadata": {},
   "source": [
    "#####  Top and bottom scores (products)"
   ]
  },
  {
   "cell_type": "code",
   "execution_count": 63,
   "metadata": {
    "collapsed": true
   },
   "outputs": [],
   "source": [
    "from operator import itemgetter"
   ]
  },
  {
   "cell_type": "code",
   "execution_count": 76,
   "metadata": {},
   "outputs": [
    {
     "data": {
      "text/plain": [
       "[(1.3939834, 'B006N3I69A'),\n",
       " (1.4603701, 'B003JA5KBW'),\n",
       " (1.6009259, 'B007RTR9DS'),\n",
       " (1.6133969, 'B000X1Q1G8'),\n",
       " (1.7591424, 'B007RTR9G0'),\n",
       " (1.8170928, 'B0041NYV8E'),\n",
       " (2.0138457, 'B006BXV176'),\n",
       " (2.0272725, 'B005A1LJ04'),\n",
       " (2.0381904, 'B006MONQMC'),\n",
       " (2.0412643, 'B003YBLF2E'),\n",
       " (2.047174, 'B008O3G25W'),\n",
       " (2.0507903, 'B005GBIXZM'),\n",
       " (2.054209, 'B005GYULZY'),\n",
       " (2.0549076, 'B005CUU25G'),\n",
       " (2.0764017, 'B008O3G2K2')]"
      ]
     },
     "execution_count": 76,
     "metadata": {},
     "output_type": "execute_result"
    }
   ],
   "source": [
    "# Bottom\n",
    "prod_scores = [(b, idx2productid[i]) for b,i in prod_scores]\n",
    "sorted(prod_scores, key=itemgetter(0))[:15]"
   ]
  },
  {
   "cell_type": "code",
   "execution_count": 77,
   "metadata": {},
   "outputs": [
    {
     "data": {
      "text/plain": [
       "[(4.1031499, 'B007R900WA'),\n",
       " (4.0837893, 'B000O5DI1E'),\n",
       " (4.0695276, 'B003KRHDMI'),\n",
       " (4.0091701, 'B000NMJWZO'),\n",
       " (3.9898019, 'B003QDRJXY'),\n",
       " (3.985074, 'B005BRHVD6'),\n",
       " (3.9831145, 'B000FBMFDO'),\n",
       " (3.9805987, 'B000FKQD42'),\n",
       " (3.9801629, 'B002VLZ8D0'),\n",
       " (3.9729517, 'B006H34CUS'),\n",
       " (3.9669712, 'B000ET4SM8'),\n",
       " (3.9663024, 'B003B3OOPA'),\n",
       " (3.9621248, 'B007JFMH8M'),\n",
       " (3.9590971, 'B000CPZSC8'),\n",
       " (3.9533169, 'B001E5DXEU')]"
      ]
     },
     "execution_count": 77,
     "metadata": {},
     "output_type": "execute_result"
    }
   ],
   "source": [
    "# Top\n",
    "sorted(prod_scores, key=itemgetter(0), reverse=True)[:15]"
   ]
  },
  {
   "cell_type": "markdown",
   "metadata": {},
   "source": [
    "#### A look at the embeddings"
   ]
  },
  {
   "cell_type": "code",
   "execution_count": 68,
   "metadata": {},
   "outputs": [
    {
     "data": {
      "text/plain": [
       "(1000, 50)"
      ]
     },
     "execution_count": 68,
     "metadata": {},
     "output_type": "execute_result"
    }
   ],
   "source": [
    "get_prod_emb = Model(prod_in, prod_emb)\n",
    "product_emb = np.squeeze(get_prod_emb.predict([top_prods]))\n",
    "product_emb.shape"
   ]
  },
  {
   "cell_type": "markdown",
   "metadata": {},
   "source": [
    "It's hard to visualize 50 (n_factors) embeddings, so we use PCA to simplify them down to just 3 vectors"
   ]
  },
  {
   "cell_type": "code",
   "execution_count": 69,
   "metadata": {
    "collapsed": true
   },
   "outputs": [],
   "source": [
    "from sklearn.decomposition import PCA\n",
    "pca = PCA(n_components=3)\n",
    "prod_pca = pca.fit(product_emb.T).components_"
   ]
  },
  {
   "cell_type": "markdown",
   "metadata": {},
   "source": [
    "1st component"
   ]
  },
  {
   "cell_type": "code",
   "execution_count": 70,
   "metadata": {
    "collapsed": true
   },
   "outputs": [],
   "source": [
    "fac0 = prod_pca[0]"
   ]
  },
  {
   "cell_type": "code",
   "execution_count": 81,
   "metadata": {},
   "outputs": [],
   "source": [
    "prod_comp = [(f, i) for f,i in zip(fac0, top_prods)]\n",
    "prod_comp = [(b, idx2productid[i]) for b,i in prod_comp]"
   ]
  },
  {
   "cell_type": "code",
   "execution_count": 83,
   "metadata": {},
   "outputs": [
    {
     "data": {
      "text/plain": [
       "[(0.60545428443152505, 'B008FHUKE6'),\n",
       " (0.41063519914343832, 'B001VJ0B0I'),\n",
       " (0.34750848945200241, 'B007JT7AIA'),\n",
       " (0.31414815584528288, 'B006BXUYN8'),\n",
       " (0.064989991838264163, 'B004ZIER34'),\n",
       " (0.056133800991978462, 'B008EG58V8'),\n",
       " (0.047680678935849041, 'B0045XE32E'),\n",
       " (0.046080593948543941, 'B003VXHGPK'),\n",
       " (0.03824869631739318, 'B004JRO1S2'),\n",
       " (0.027721114763581352, 'B006Q7YG2O')]"
      ]
     },
     "execution_count": 83,
     "metadata": {},
     "output_type": "execute_result"
    }
   ],
   "source": [
    "sorted(prod_comp, key=itemgetter(0), reverse=True)[:10]"
   ]
  },
  {
   "cell_type": "code",
   "execution_count": 84,
   "metadata": {},
   "outputs": [
    {
     "data": {
      "text/plain": [
       "[(-0.36294352238737115, 'B004E4CCSQ'),\n",
       " (-0.1774650037264647, 'B004MO6NI8'),\n",
       " (-0.11689568065383477, 'B003JA5KBW'),\n",
       " (-0.10961930728285804, 'B002IEZJMA'),\n",
       " (-0.091150292897382107, 'B003G52BN0'),\n",
       " (-0.089676985723096861, 'B0026KPDG8'),\n",
       " (-0.074996153014948386, 'B001LG945O'),\n",
       " (-0.073189260165791803, 'B005VOOM2W'),\n",
       " (-0.06134599095948437, 'B004YV80O4'),\n",
       " (-0.050700649066207658, 'B0041NYV8E')]"
      ]
     },
     "execution_count": 84,
     "metadata": {},
     "output_type": "execute_result"
    }
   ],
   "source": [
    "sorted(prod_comp, key=itemgetter(0))[:10]"
   ]
  },
  {
   "cell_type": "markdown",
   "metadata": {},
   "source": [
    "### Second Model: Simple Neural Net"
   ]
  },
  {
   "cell_type": "code",
   "execution_count": 95,
   "metadata": {},
   "outputs": [
    {
     "name": "stderr",
     "output_type": "stream",
     "text": [
      "/home/mark/.conda/envs/dl/lib/python3.6/site-packages/ipykernel_launcher.py:3: UserWarning: Update your `Embedding` call to the Keras 2 API: `Embedding(256059, 50, input_length=1, embeddings_regularizer=<keras.reg...)`\n",
      "  This is separate from the ipykernel package so we can avoid doing imports until\n",
      "/home/mark/.conda/envs/dl/lib/python3.6/site-packages/ipykernel_launcher.py:3: UserWarning: Update your `Embedding` call to the Keras 2 API: `Embedding(74258, 50, input_length=1, embeddings_regularizer=<keras.reg...)`\n",
      "  This is separate from the ipykernel package so we can avoid doing imports until\n"
     ]
    }
   ],
   "source": [
    "user_in, user_emb = embedding_input('user_in', n_users, n_factors, 1e-4)\n",
    "prod_in, prod_emb = embedding_input('prod_in', n_products, n_factors, 1e-4)"
   ]
  },
  {
   "cell_type": "code",
   "execution_count": 96,
   "metadata": {
    "collapsed": true
   },
   "outputs": [],
   "source": [
    "from keras.layers import Dropout, Dense"
   ]
  },
  {
   "cell_type": "code",
   "execution_count": 99,
   "metadata": {},
   "outputs": [
    {
     "name": "stderr",
     "output_type": "stream",
     "text": [
      "/home/mark/.conda/envs/dl/lib/python3.6/site-packages/ipykernel_launcher.py:1: UserWarning: The `merge` function is deprecated and will be removed after 08/2017. Use instead layers from `keras.layers.merge`, e.g. `add`, `concatenate`, etc.\n",
      "  \"\"\"Entry point for launching an IPython kernel.\n",
      "/home/mark/.conda/envs/dl/lib/python3.6/site-packages/keras/legacy/layers.py:458: UserWarning: The `Merge` layer is deprecated and will be removed after 08/2017. Use instead layers from `keras.layers.merge`, e.g. `add`, `concatenate`, etc.\n",
      "  name=name)\n"
     ]
    }
   ],
   "source": [
    "x = merge([user_emb, prod_emb], mode='concat')\n",
    "x = Flatten()(x)\n",
    "x = Dropout(0.3)(x)\n",
    "x = Dense(70, activation='relu')(x)\n",
    "x = Dropout(0.75)(x)\n",
    "x = Dense(1)(x)\n",
    "\n",
    "nn = Model([user_in, prod_in], x)\n",
    "nn.compile(Adam(learning_rate), loss='mse', metrics=['accuracy'])"
   ]
  },
  {
   "cell_type": "code",
   "execution_count": 100,
   "metadata": {},
   "outputs": [
    {
     "name": "stdout",
     "output_type": "stream",
     "text": [
      "Train on 455010 samples, validate on 113444 samples\n",
      "Epoch 1/20\n",
      "455010/455010 [==============================] - 23s - loss: 3.5010 - acc: 0.2111 - val_loss: 1.6753 - val_acc: 0.2808\n",
      "Epoch 2/20\n",
      "455010/455010 [==============================] - 22s - loss: 2.1713 - acc: 0.2838 - val_loss: 1.6822 - val_acc: 0.3244\n",
      "Epoch 3/20\n",
      "455010/455010 [==============================] - 22s - loss: 1.6785 - acc: 0.3420 - val_loss: 1.6065 - val_acc: 0.4056\n",
      "Epoch 4/20\n",
      "455010/455010 [==============================] - 22s - loss: 1.3034 - acc: 0.4210 - val_loss: 1.5462 - val_acc: 0.4722\n",
      "Epoch 5/20\n",
      "455010/455010 [==============================] - 22s - loss: 1.1340 - acc: 0.5048 - val_loss: 1.5108 - val_acc: 0.4893\n",
      "Epoch 6/20\n",
      "455010/455010 [==============================] - 23s - loss: 1.0879 - acc: 0.5409 - val_loss: 1.4867 - val_acc: 0.5009\n",
      "Epoch 7/20\n",
      "455010/455010 [==============================] - 23s - loss: 1.0629 - acc: 0.5503 - val_loss: 1.4734 - val_acc: 0.5043\n",
      "Epoch 8/20\n",
      "455010/455010 [==============================] - 22s - loss: 1.0436 - acc: 0.5525 - val_loss: 1.4601 - val_acc: 0.5094\n",
      "Epoch 9/20\n",
      "455010/455010 [==============================] - 22s - loss: 1.0287 - acc: 0.5571 - val_loss: 1.4483 - val_acc: 0.4989\n",
      "Epoch 10/20\n",
      "455010/455010 [==============================] - 22s - loss: 1.0127 - acc: 0.5575 - val_loss: 1.4449 - val_acc: 0.5136\n",
      "Epoch 11/20\n",
      "455010/455010 [==============================] - 22s - loss: 1.0047 - acc: 0.5575 - val_loss: 1.4327 - val_acc: 0.5119\n",
      "Epoch 12/20\n",
      "455010/455010 [==============================] - 22s - loss: 0.9945 - acc: 0.5582 - val_loss: 1.4220 - val_acc: 0.5232\n",
      "Epoch 13/20\n",
      "455010/455010 [==============================] - 22s - loss: 0.9825 - acc: 0.5611 - val_loss: 1.4190 - val_acc: 0.5098\n",
      "Epoch 14/20\n",
      "455010/455010 [==============================] - 22s - loss: 0.9805 - acc: 0.5613 - val_loss: 1.4108 - val_acc: 0.5189\n",
      "Epoch 15/20\n",
      "455010/455010 [==============================] - 22s - loss: 0.9720 - acc: 0.5615 - val_loss: 1.4048 - val_acc: 0.5253\n",
      "Epoch 16/20\n",
      "455010/455010 [==============================] - 22s - loss: 0.9684 - acc: 0.5620 - val_loss: 1.4003 - val_acc: 0.5168\n",
      "Epoch 17/20\n",
      "455010/455010 [==============================] - 23s - loss: 0.9632 - acc: 0.5637 - val_loss: 1.4037 - val_acc: 0.5310\n",
      "Epoch 18/20\n",
      "455010/455010 [==============================] - 22s - loss: 0.9611 - acc: 0.5628 - val_loss: 1.4017 - val_acc: 0.5219\n",
      "Epoch 19/20\n",
      "455010/455010 [==============================] - 22s - loss: 0.9578 - acc: 0.5646 - val_loss: 1.3961 - val_acc: 0.5198\n",
      "Epoch 20/20\n",
      "455010/455010 [==============================] - 22s - loss: 0.9581 - acc: 0.5650 - val_loss: 1.3988 - val_acc: 0.5239\n"
     ]
    },
    {
     "data": {
      "text/plain": [
       "<keras.callbacks.History at 0x7f7568579e10>"
      ]
     },
     "execution_count": 100,
     "metadata": {},
     "output_type": "execute_result"
    }
   ],
   "source": [
    "nn.fit([train.userId, train.productId], train.Score, batch_size=batch_size,\n",
    "       epochs=epochs, validation_data=([val.userId, val.productId], val.Score))"
   ]
  },
  {
   "cell_type": "code",
   "execution_count": 155,
   "metadata": {
    "collapsed": true
   },
   "outputs": [],
   "source": [
    "nn.save_weights('models/nn.h5')\n",
    "with open('models/nn.json', 'w') as f:\n",
    "    f.write(nn.to_json())\n",
    "f.close()"
   ]
  },
  {
   "cell_type": "markdown",
   "metadata": {},
   "source": [
    "### Test models"
   ]
  },
  {
   "cell_type": "code",
   "execution_count": 132,
   "metadata": {},
   "outputs": [
    {
     "name": "stdout",
     "output_type": "stream",
     "text": [
      "    Score  userId  productId\n",
      "Id                          \n",
      "8       5       7          4\n",
      "13      1      12          8\n",
      "28      4      27          9\n",
      "31      5      29         12\n",
      "36      4      34         13\n",
      "47      5      45         13\n",
      "53      4      51         14\n",
      "60      5      58         16\n",
      "75      2      73         23\n",
      "86      5      84         28\n"
     ]
    }
   ],
   "source": [
    "test_ratings = val[:10]\n",
    "print(test_ratings)"
   ]
  },
  {
   "cell_type": "code",
   "execution_count": 149,
   "metadata": {},
   "outputs": [],
   "source": [
    "users = test_ratings['userId'].values\n",
    "prods = test_ratings['productId'].values"
   ]
  },
  {
   "cell_type": "code",
   "execution_count": 151,
   "metadata": {},
   "outputs": [
    {
     "name": "stderr",
     "output_type": "stream",
     "text": [
      "/home/mark/.conda/envs/dl/lib/python3.6/site-packages/ipykernel_launcher.py:1: SettingWithCopyWarning: \n",
      "A value is trying to be set on a copy of a slice from a DataFrame.\n",
      "Try using .loc[row_indexer,col_indexer] = value instead\n",
      "\n",
      "See the caveats in the documentation: http://pandas.pydata.org/pandas-docs/stable/indexing.html#indexing-view-versus-copy\n",
      "  \"\"\"Entry point for launching an IPython kernel.\n"
     ]
    }
   ],
   "source": [
    "test_ratings['preds'] = nn.predict([users, prods])"
   ]
  },
  {
   "cell_type": "code",
   "execution_count": 152,
   "metadata": {},
   "outputs": [
    {
     "data": {
      "text/html": [
       "<div>\n",
       "<style>\n",
       "    .dataframe thead tr:only-child th {\n",
       "        text-align: right;\n",
       "    }\n",
       "\n",
       "    .dataframe thead th {\n",
       "        text-align: left;\n",
       "    }\n",
       "\n",
       "    .dataframe tbody tr th {\n",
       "        vertical-align: top;\n",
       "    }\n",
       "</style>\n",
       "<table border=\"1\" class=\"dataframe\">\n",
       "  <thead>\n",
       "    <tr style=\"text-align: right;\">\n",
       "      <th></th>\n",
       "      <th>Score</th>\n",
       "      <th>userId</th>\n",
       "      <th>productId</th>\n",
       "      <th>preds</th>\n",
       "    </tr>\n",
       "    <tr>\n",
       "      <th>Id</th>\n",
       "      <th></th>\n",
       "      <th></th>\n",
       "      <th></th>\n",
       "      <th></th>\n",
       "    </tr>\n",
       "  </thead>\n",
       "  <tbody>\n",
       "    <tr>\n",
       "      <th>8</th>\n",
       "      <td>5</td>\n",
       "      <td>7</td>\n",
       "      <td>4</td>\n",
       "      <td>4.478443</td>\n",
       "    </tr>\n",
       "    <tr>\n",
       "      <th>13</th>\n",
       "      <td>1</td>\n",
       "      <td>12</td>\n",
       "      <td>8</td>\n",
       "      <td>2.467163</td>\n",
       "    </tr>\n",
       "    <tr>\n",
       "      <th>28</th>\n",
       "      <td>4</td>\n",
       "      <td>27</td>\n",
       "      <td>9</td>\n",
       "      <td>4.170745</td>\n",
       "    </tr>\n",
       "    <tr>\n",
       "      <th>31</th>\n",
       "      <td>5</td>\n",
       "      <td>29</td>\n",
       "      <td>12</td>\n",
       "      <td>4.346270</td>\n",
       "    </tr>\n",
       "    <tr>\n",
       "      <th>36</th>\n",
       "      <td>4</td>\n",
       "      <td>34</td>\n",
       "      <td>13</td>\n",
       "      <td>4.197990</td>\n",
       "    </tr>\n",
       "    <tr>\n",
       "      <th>47</th>\n",
       "      <td>5</td>\n",
       "      <td>45</td>\n",
       "      <td>13</td>\n",
       "      <td>4.746248</td>\n",
       "    </tr>\n",
       "    <tr>\n",
       "      <th>53</th>\n",
       "      <td>4</td>\n",
       "      <td>51</td>\n",
       "      <td>14</td>\n",
       "      <td>4.097061</td>\n",
       "    </tr>\n",
       "    <tr>\n",
       "      <th>60</th>\n",
       "      <td>5</td>\n",
       "      <td>58</td>\n",
       "      <td>16</td>\n",
       "      <td>3.751348</td>\n",
       "    </tr>\n",
       "    <tr>\n",
       "      <th>75</th>\n",
       "      <td>2</td>\n",
       "      <td>73</td>\n",
       "      <td>23</td>\n",
       "      <td>4.182163</td>\n",
       "    </tr>\n",
       "    <tr>\n",
       "      <th>86</th>\n",
       "      <td>5</td>\n",
       "      <td>84</td>\n",
       "      <td>28</td>\n",
       "      <td>4.571790</td>\n",
       "    </tr>\n",
       "  </tbody>\n",
       "</table>\n",
       "</div>"
      ],
      "text/plain": [
       "    Score  userId  productId     preds\n",
       "Id                                    \n",
       "8       5       7          4  4.478443\n",
       "13      1      12          8  2.467163\n",
       "28      4      27          9  4.170745\n",
       "31      5      29         12  4.346270\n",
       "36      4      34         13  4.197990\n",
       "47      5      45         13  4.746248\n",
       "53      4      51         14  4.097061\n",
       "60      5      58         16  3.751348\n",
       "75      2      73         23  4.182163\n",
       "86      5      84         28  4.571790"
      ]
     },
     "execution_count": 152,
     "metadata": {},
     "output_type": "execute_result"
    }
   ],
   "source": [
    "test_ratings"
   ]
  },
  {
   "cell_type": "markdown",
   "metadata": {},
   "source": [
    "## 2. Sentiment Analysis"
   ]
  },
  {
   "cell_type": "code",
   "execution_count": null,
   "metadata": {
    "collapsed": true
   },
   "outputs": [],
   "source": []
  }
 ],
 "metadata": {
  "kernelspec": {
   "display_name": "Python 3",
   "language": "python",
   "name": "python3"
  },
  "language_info": {
   "codemirror_mode": {
    "name": "ipython",
    "version": 3
   },
   "file_extension": ".py",
   "mimetype": "text/x-python",
   "name": "python",
   "nbconvert_exporter": "python",
   "pygments_lexer": "ipython3",
   "version": "3.6.1"
  }
 },
 "nbformat": 4,
 "nbformat_minor": 2
}
