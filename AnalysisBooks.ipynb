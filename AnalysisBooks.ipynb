{
 "cells": [
  {
   "cell_type": "markdown",
   "metadata": {},
   "source": [
    "# Information\n",
    "\n",
    "## Amazon data\n",
    "* [Kaggle](https://www.kaggle.com/snap/amazon-fine-food-reviews)\n",
    "* product info: GET amazon.com/dp/B00006HAXW\n",
    "* [More data!](http://jmcauley.ucsd.edu/data/amazon/)\n",
    "\n",
    "## Action Plan\n",
    "\n",
    "Small Data sample:\n",
    "1. Explore Data\n",
    "2. Collaborative Filtering\n",
    "3. NLP\n",
    "4. Sentiment Analysis\n",
    "5. Seq2Seq summarizer\n",
    "\n",
    "Large Data samples:\n",
    "* Implement above pipeline"
   ]
  },
  {
   "cell_type": "markdown",
   "metadata": {},
   "source": [
    "## 1. Explore Data"
   ]
  },
  {
   "cell_type": "code",
   "execution_count": 1,
   "metadata": {
    "collapsed": true
   },
   "outputs": [],
   "source": [
    "import pandas as pd\n",
    "import numpy as np\n",
    "import json\n",
    "import gzip\n",
    "from data.parser import getDF"
   ]
  },
  {
   "cell_type": "code",
   "execution_count": 2,
   "metadata": {
    "collapsed": true
   },
   "outputs": [],
   "source": [
    "data = getDF('./data/reviews_Books_5.json.gz')"
   ]
  },
  {
   "cell_type": "code",
   "execution_count": 3,
   "metadata": {
    "collapsed": true
   },
   "outputs": [
    {
     "data": {
      "text/plain": [
       "0                                                 Wonderful!\n",
       "1                                               close to god\n",
       "2                            Must Read for Life Afficianados\n",
       "3          Timeless for every good and bad time in your l...\n",
       "4                                              A Modern Rumi\n",
       "5                             This book will bring you peace\n",
       "6                                                 Graet Work\n",
       "7                                                Such Beauty\n",
       "8                                                The Prophet\n",
       "9                                           A Modern Classic\n",
       "10           Perhaps the greatest book that I have ever read\n",
       "11                   Great classic that everyone should read\n",
       "12                                                   Amazing\n",
       "13                            Everyone should have this book\n",
       "14                     A book everyone &#34;should&#34; read\n",
       "15                           phenomenal piece of literature!\n",
       "16         textured paper, old-style typography, and leat...\n",
       "17                                                  Flawless\n",
       "18                                     \"The Prophet\" is cool\n",
       "19                                                Enchanting\n",
       "20                                           Just beautiful.\n",
       "21                   Touches my heart.. again and.. again...\n",
       "22                                                 Good Read\n",
       "23                                                  Eloquent\n",
       "24                     A great book, buying it for a friend.\n",
       "25                                       A Great Little Gift\n",
       "26                                                  Loved it\n",
       "27                                                  The Best\n",
       "28                                               The Prophet\n",
       "29                               A Book of Great Inspiration\n",
       "                                 ...                        \n",
       "8898011                                            Loved it!\n",
       "8898012                              Only Problem- Too Short\n",
       "8898013                                       Fantastic READ\n",
       "8898014                                  Best Quickie Ever!!\n",
       "8898015                      Package this one up with a bow!\n",
       "8898016                                                  WOW\n",
       "8898017                                          HOT HOT HOT\n",
       "8898018                  FIVE Left Me Begging for More STARS\n",
       "8898019                              Delightfully delicious!\n",
       "8898020                                               HOT!!!\n",
       "8898021                 Warning you might need a cold shower\n",
       "8898022                                      HOT, HOT, HOT!!\n",
       "8898023                                       LOVED SO MUCH!\n",
       "8898024    Quick read that pulls you in from the first pa...\n",
       "8898025                                      Great Delivery!\n",
       "8898026                                Misery loves company.\n",
       "8898027                                     Amazing Quickie!\n",
       "8898028                 THIS PACKAGED WAS SO WELL DELIVERED!\n",
       "8898029                             It's gettin' hot in here\n",
       "8898030    This Package should be read over and over agai...\n",
       "8898031                                       hot and steamy\n",
       "8898032                                        100% HOT !!!!\n",
       "8898033        Sexy and funny... Angela and SE did it AGAIN!\n",
       "8898034    Dre is quite possibly the worst character I ha...\n",
       "8898035                       EVEYTHING definite 5 star read\n",
       "8898036                                  A Hot Read Indeed!!\n",
       "8898037                                       VERY GOOD BOOK\n",
       "8898038                                           Great Read\n",
       "8898039                                                Wow!!\n",
       "8898040                     Great read.hands down #5star hit\n",
       "Name: summary, Length: 8898041, dtype: object"
      ]
     },
     "execution_count": 3,
     "metadata": {},
     "output_type": "execute_result"
    }
   ],
   "source": [
    "data.summary"
   ]
  },
  {
   "cell_type": "code",
   "execution_count": 4,
   "metadata": {},
   "outputs": [
    {
     "data": {
      "text/html": [
       "<div>\n",
       "<style>\n",
       "    .dataframe thead tr:only-child th {\n",
       "        text-align: right;\n",
       "    }\n",
       "\n",
       "    .dataframe thead th {\n",
       "        text-align: left;\n",
       "    }\n",
       "\n",
       "    .dataframe tbody tr th {\n",
       "        vertical-align: top;\n",
       "    }\n",
       "</style>\n",
       "<table border=\"1\" class=\"dataframe\">\n",
       "  <thead>\n",
       "    <tr style=\"text-align: right;\">\n",
       "      <th></th>\n",
       "      <th>reviewerID</th>\n",
       "      <th>asin</th>\n",
       "      <th>reviewerName</th>\n",
       "      <th>helpful</th>\n",
       "      <th>reviewText</th>\n",
       "      <th>overall</th>\n",
       "      <th>summary</th>\n",
       "      <th>unixReviewTime</th>\n",
       "      <th>reviewTime</th>\n",
       "    </tr>\n",
       "  </thead>\n",
       "  <tbody>\n",
       "    <tr>\n",
       "      <th>0</th>\n",
       "      <td>A10000012B7CGYKOMPQ4L</td>\n",
       "      <td>000100039X</td>\n",
       "      <td>Adam</td>\n",
       "      <td>[0, 0]</td>\n",
       "      <td>Spiritually and mentally inspiring! A book tha...</td>\n",
       "      <td>5.0</td>\n",
       "      <td>Wonderful!</td>\n",
       "      <td>1355616000</td>\n",
       "      <td>12 16, 2012</td>\n",
       "    </tr>\n",
       "    <tr>\n",
       "      <th>1</th>\n",
       "      <td>A2S166WSCFIFP5</td>\n",
       "      <td>000100039X</td>\n",
       "      <td>adead_poet@hotmail.com \"adead_poet@hotmail.com\"</td>\n",
       "      <td>[0, 2]</td>\n",
       "      <td>This is one my must have books. It is a master...</td>\n",
       "      <td>5.0</td>\n",
       "      <td>close to god</td>\n",
       "      <td>1071100800</td>\n",
       "      <td>12 11, 2003</td>\n",
       "    </tr>\n",
       "    <tr>\n",
       "      <th>2</th>\n",
       "      <td>A1BM81XB4QHOA3</td>\n",
       "      <td>000100039X</td>\n",
       "      <td>Ahoro Blethends \"Seriously\"</td>\n",
       "      <td>[0, 0]</td>\n",
       "      <td>This book provides a reflection that you can a...</td>\n",
       "      <td>5.0</td>\n",
       "      <td>Must Read for Life Afficianados</td>\n",
       "      <td>1390003200</td>\n",
       "      <td>01 18, 2014</td>\n",
       "    </tr>\n",
       "    <tr>\n",
       "      <th>3</th>\n",
       "      <td>A1MOSTXNIO5MPJ</td>\n",
       "      <td>000100039X</td>\n",
       "      <td>Alan Krug</td>\n",
       "      <td>[0, 0]</td>\n",
       "      <td>I first read THE PROPHET in college back in th...</td>\n",
       "      <td>5.0</td>\n",
       "      <td>Timeless for every good and bad time in your l...</td>\n",
       "      <td>1317081600</td>\n",
       "      <td>09 27, 2011</td>\n",
       "    </tr>\n",
       "    <tr>\n",
       "      <th>4</th>\n",
       "      <td>A2XQ5LZHTD4AFT</td>\n",
       "      <td>000100039X</td>\n",
       "      <td>Alaturka</td>\n",
       "      <td>[7, 9]</td>\n",
       "      <td>A timeless classic.  It is a very demanding an...</td>\n",
       "      <td>5.0</td>\n",
       "      <td>A Modern Rumi</td>\n",
       "      <td>1033948800</td>\n",
       "      <td>10 7, 2002</td>\n",
       "    </tr>\n",
       "  </tbody>\n",
       "</table>\n",
       "</div>"
      ],
      "text/plain": [
       "              reviewerID        asin  \\\n",
       "0  A10000012B7CGYKOMPQ4L  000100039X   \n",
       "1         A2S166WSCFIFP5  000100039X   \n",
       "2         A1BM81XB4QHOA3  000100039X   \n",
       "3         A1MOSTXNIO5MPJ  000100039X   \n",
       "4         A2XQ5LZHTD4AFT  000100039X   \n",
       "\n",
       "                                      reviewerName helpful  \\\n",
       "0                                             Adam  [0, 0]   \n",
       "1  adead_poet@hotmail.com \"adead_poet@hotmail.com\"  [0, 2]   \n",
       "2                      Ahoro Blethends \"Seriously\"  [0, 0]   \n",
       "3                                        Alan Krug  [0, 0]   \n",
       "4                                         Alaturka  [7, 9]   \n",
       "\n",
       "                                          reviewText  overall  \\\n",
       "0  Spiritually and mentally inspiring! A book tha...      5.0   \n",
       "1  This is one my must have books. It is a master...      5.0   \n",
       "2  This book provides a reflection that you can a...      5.0   \n",
       "3  I first read THE PROPHET in college back in th...      5.0   \n",
       "4  A timeless classic.  It is a very demanding an...      5.0   \n",
       "\n",
       "                                             summary  unixReviewTime  \\\n",
       "0                                         Wonderful!      1355616000   \n",
       "1                                       close to god      1071100800   \n",
       "2                    Must Read for Life Afficianados      1390003200   \n",
       "3  Timeless for every good and bad time in your l...      1317081600   \n",
       "4                                      A Modern Rumi      1033948800   \n",
       "\n",
       "    reviewTime  \n",
       "0  12 16, 2012  \n",
       "1  12 11, 2003  \n",
       "2  01 18, 2014  \n",
       "3  09 27, 2011  \n",
       "4   10 7, 2002  "
      ]
     },
     "execution_count": 4,
     "metadata": {},
     "output_type": "execute_result"
    }
   ],
   "source": [
    "data.head()"
   ]
  },
  {
   "cell_type": "code",
   "execution_count": 5,
   "metadata": {},
   "outputs": [
    {
     "data": {
      "text/plain": [
       "Index(['reviewerID', 'asin', 'reviewerName', 'helpful', 'reviewText',\n",
       "       'overall', 'summary', 'unixReviewTime', 'reviewTime'],\n",
       "      dtype='object')"
      ]
     },
     "execution_count": 5,
     "metadata": {},
     "output_type": "execute_result"
    }
   ],
   "source": [
    "data.columns"
   ]
  },
  {
   "cell_type": "code",
   "execution_count": 6,
   "metadata": {},
   "outputs": [
    {
     "name": "stdout",
     "output_type": "stream",
     "text": [
      "[('030758836X', 7440), ('0439023483', 6717), ('0375831002', 4864), ('038536315X', 4604), ('0439023513', 4440), ('0316055433', 4305), ('0385537859', 4284), ('0007444117', 3821), ('147674355X', 3725), ('0399159347', 3655)]\n",
      "Length: 367982\n"
     ]
    }
   ],
   "source": [
    "from collections import Counter\n",
    "prod_counts = Counter(data['asin'])\n",
    "print(prod_counts.most_common(10))\n",
    "print('Length: {}'.format(len(prod_counts)))"
   ]
  },
  {
   "cell_type": "code",
   "execution_count": 7,
   "metadata": {},
   "outputs": [
    {
     "name": "stdout",
     "output_type": "stream",
     "text": [
      "[('AFVQZQ8PW0L', 23222), ('A14OJS0VWMOSWO', 16090), ('A2F6N60Z96CAJI', 5891), ('A320TMDV6KCFU', 4212), ('AHUT55E980RDR', 3091), ('A13QTZ8CIMHHG4', 2949), ('A1K1JW1C5CUSUZ', 2910), ('A328S9RN3U5M68', 2795), ('A2TX179XAT5GRP', 2529), ('A21NVBFIEQWDSG', 2526)]\n",
      "Length: 603668\n"
     ]
    }
   ],
   "source": [
    "user_counts = Counter(data['reviewerID'])\n",
    "print(user_counts.most_common(10))\n",
    "print('Length: {}'.format(len(user_counts)))"
   ]
  },
  {
   "cell_type": "code",
   "execution_count": 78,
   "metadata": {
    "collapsed": true
   },
   "outputs": [],
   "source": [
    "# We'll create a smaller data object with 100 products and users\n",
    "data[:100].to_json('./data/reviews_books_100.json', orient='records')"
   ]
  },
  {
   "cell_type": "markdown",
   "metadata": {
    "heading_collapsed": true
   },
   "source": [
    "## 2. Collaborative Filtering"
   ]
  },
  {
   "cell_type": "markdown",
   "metadata": {
    "hidden": true
   },
   "source": [
    "### Basic filtering based on user overall score"
   ]
  },
  {
   "cell_type": "code",
   "execution_count": 8,
   "metadata": {
    "collapsed": true,
    "hidden": true
   },
   "outputs": [],
   "source": [
    "ratings = data[['asin', 'reviewerID', 'overall']]"
   ]
  },
  {
   "cell_type": "code",
   "execution_count": 9,
   "metadata": {
    "collapsed": true,
    "hidden": true
   },
   "outputs": [
    {
     "data": {
      "text/html": [
       "<div>\n",
       "<style>\n",
       "    .dataframe thead tr:only-child th {\n",
       "        text-align: right;\n",
       "    }\n",
       "\n",
       "    .dataframe thead th {\n",
       "        text-align: left;\n",
       "    }\n",
       "\n",
       "    .dataframe tbody tr th {\n",
       "        vertical-align: top;\n",
       "    }\n",
       "</style>\n",
       "<table border=\"1\" class=\"dataframe\">\n",
       "  <thead>\n",
       "    <tr style=\"text-align: right;\">\n",
       "      <th></th>\n",
       "      <th>asin</th>\n",
       "      <th>reviewerID</th>\n",
       "      <th>overall</th>\n",
       "    </tr>\n",
       "  </thead>\n",
       "  <tbody>\n",
       "    <tr>\n",
       "      <th>0</th>\n",
       "      <td>000100039X</td>\n",
       "      <td>A10000012B7CGYKOMPQ4L</td>\n",
       "      <td>5.0</td>\n",
       "    </tr>\n",
       "    <tr>\n",
       "      <th>1</th>\n",
       "      <td>000100039X</td>\n",
       "      <td>A2S166WSCFIFP5</td>\n",
       "      <td>5.0</td>\n",
       "    </tr>\n",
       "    <tr>\n",
       "      <th>2</th>\n",
       "      <td>000100039X</td>\n",
       "      <td>A1BM81XB4QHOA3</td>\n",
       "      <td>5.0</td>\n",
       "    </tr>\n",
       "    <tr>\n",
       "      <th>3</th>\n",
       "      <td>000100039X</td>\n",
       "      <td>A1MOSTXNIO5MPJ</td>\n",
       "      <td>5.0</td>\n",
       "    </tr>\n",
       "    <tr>\n",
       "      <th>4</th>\n",
       "      <td>000100039X</td>\n",
       "      <td>A2XQ5LZHTD4AFT</td>\n",
       "      <td>5.0</td>\n",
       "    </tr>\n",
       "  </tbody>\n",
       "</table>\n",
       "</div>"
      ],
      "text/plain": [
       "         asin             reviewerID  overall\n",
       "0  000100039X  A10000012B7CGYKOMPQ4L      5.0\n",
       "1  000100039X         A2S166WSCFIFP5      5.0\n",
       "2  000100039X         A1BM81XB4QHOA3      5.0\n",
       "3  000100039X         A1MOSTXNIO5MPJ      5.0\n",
       "4  000100039X         A2XQ5LZHTD4AFT      5.0"
      ]
     },
     "execution_count": 9,
     "metadata": {},
     "output_type": "execute_result"
    }
   ],
   "source": [
    "ratings.head()"
   ]
  },
  {
   "cell_type": "code",
   "execution_count": 10,
   "metadata": {
    "collapsed": true,
    "hidden": true
   },
   "outputs": [],
   "source": [
    "users = ratings['reviewerID'].unique()\n",
    "products = ratings['asin'].unique()"
   ]
  },
  {
   "cell_type": "code",
   "execution_count": 11,
   "metadata": {
    "collapsed": true,
    "hidden": true
   },
   "outputs": [],
   "source": [
    "userid2idx = {o:i for i,o in enumerate(users)}\n",
    "productid2idx = {o:i for i,o in enumerate(products)}\n",
    "idx2usedid = {i:o for i,o in enumerate(users)}\n",
    "idx2productid = {i:o for i,o in enumerate(products)}"
   ]
  },
  {
   "cell_type": "markdown",
   "metadata": {
    "hidden": true
   },
   "source": [
    "We update the user and product ids to be continous integers, which we want when using embeddings"
   ]
  },
  {
   "cell_type": "code",
   "execution_count": 12,
   "metadata": {
    "collapsed": true,
    "hidden": true
   },
   "outputs": [
    {
     "name": "stderr",
     "output_type": "stream",
     "text": [
      "/home/mark/.conda/envs/dl/lib/python3.6/site-packages/ipykernel_launcher.py:1: SettingWithCopyWarning: \n",
      "A value is trying to be set on a copy of a slice from a DataFrame.\n",
      "Try using .loc[row_indexer,col_indexer] = value instead\n",
      "\n",
      "See the caveats in the documentation: http://pandas.pydata.org/pandas-docs/stable/indexing.html#indexing-view-versus-copy\n",
      "  \"\"\"Entry point for launching an IPython kernel.\n",
      "/home/mark/.conda/envs/dl/lib/python3.6/site-packages/ipykernel_launcher.py:2: SettingWithCopyWarning: \n",
      "A value is trying to be set on a copy of a slice from a DataFrame.\n",
      "Try using .loc[row_indexer,col_indexer] = value instead\n",
      "\n",
      "See the caveats in the documentation: http://pandas.pydata.org/pandas-docs/stable/indexing.html#indexing-view-versus-copy\n",
      "  \n"
     ]
    },
    {
     "data": {
      "text/html": [
       "<div>\n",
       "<style>\n",
       "    .dataframe thead tr:only-child th {\n",
       "        text-align: right;\n",
       "    }\n",
       "\n",
       "    .dataframe thead th {\n",
       "        text-align: left;\n",
       "    }\n",
       "\n",
       "    .dataframe tbody tr th {\n",
       "        vertical-align: top;\n",
       "    }\n",
       "</style>\n",
       "<table border=\"1\" class=\"dataframe\">\n",
       "  <thead>\n",
       "    <tr style=\"text-align: right;\">\n",
       "      <th></th>\n",
       "      <th>overall</th>\n",
       "      <th>userId</th>\n",
       "      <th>productId</th>\n",
       "    </tr>\n",
       "  </thead>\n",
       "  <tbody>\n",
       "    <tr>\n",
       "      <th>0</th>\n",
       "      <td>5.0</td>\n",
       "      <td>0</td>\n",
       "      <td>0</td>\n",
       "    </tr>\n",
       "    <tr>\n",
       "      <th>1</th>\n",
       "      <td>5.0</td>\n",
       "      <td>1</td>\n",
       "      <td>0</td>\n",
       "    </tr>\n",
       "    <tr>\n",
       "      <th>2</th>\n",
       "      <td>5.0</td>\n",
       "      <td>2</td>\n",
       "      <td>0</td>\n",
       "    </tr>\n",
       "    <tr>\n",
       "      <th>3</th>\n",
       "      <td>5.0</td>\n",
       "      <td>3</td>\n",
       "      <td>0</td>\n",
       "    </tr>\n",
       "    <tr>\n",
       "      <th>4</th>\n",
       "      <td>5.0</td>\n",
       "      <td>4</td>\n",
       "      <td>0</td>\n",
       "    </tr>\n",
       "  </tbody>\n",
       "</table>\n",
       "</div>"
      ],
      "text/plain": [
       "   overall  userId  productId\n",
       "0      5.0       0          0\n",
       "1      5.0       1          0\n",
       "2      5.0       2          0\n",
       "3      5.0       3          0\n",
       "4      5.0       4          0"
      ]
     },
     "execution_count": 12,
     "metadata": {},
     "output_type": "execute_result"
    }
   ],
   "source": [
    "ratings['userId'] = ratings['reviewerID'].apply(lambda x: userid2idx[x])\n",
    "ratings['productId'] = ratings['asin'].apply(lambda x: productid2idx[x])\n",
    "ratings = ratings.drop('reviewerID',1)\n",
    "ratings = ratings.drop('asin',1)\n",
    "ratings.head()"
   ]
  },
  {
   "cell_type": "code",
   "execution_count": 13,
   "metadata": {
    "collapsed": true,
    "hidden": true
   },
   "outputs": [],
   "source": [
    "def stats(column):\n",
    "    return print('Column: {}, Min {}, Max {}, Non-unique {}'.format(column,\n",
    "        ratings[column].min(), ratings[column].max(), ratings[column].nunique()))"
   ]
  },
  {
   "cell_type": "code",
   "execution_count": 14,
   "metadata": {
    "collapsed": true,
    "hidden": true
   },
   "outputs": [
    {
     "name": "stdout",
     "output_type": "stream",
     "text": [
      "Column: userId, Min 0, Max 603667, Non-unique 603668\n",
      "Column: productId, Min 0, Max 367981, Non-unique 367982\n"
     ]
    }
   ],
   "source": [
    "stats('userId')\n",
    "stats('productId')"
   ]
  },
  {
   "cell_type": "markdown",
   "metadata": {
    "hidden": true
   },
   "source": [
    "### Prepare dataset"
   ]
  },
  {
   "cell_type": "markdown",
   "metadata": {
    "hidden": true
   },
   "source": [
    "#### Hyperparameters"
   ]
  },
  {
   "cell_type": "code",
   "execution_count": 15,
   "metadata": {
    "collapsed": true,
    "hidden": true
   },
   "outputs": [],
   "source": [
    "# number of latent factors\n",
    "n_factors = 50\n",
    "# learning rate\n",
    "learning_rate = 0.001\n",
    "# batch size\n",
    "batch_size = 1028\n",
    "# number of epochs\n",
    "epochs = 20"
   ]
  },
  {
   "cell_type": "code",
   "execution_count": 16,
   "metadata": {
    "collapsed": true,
    "hidden": true
   },
   "outputs": [],
   "source": [
    "np.random.seed = 42"
   ]
  },
  {
   "cell_type": "markdown",
   "metadata": {
    "hidden": true
   },
   "source": [
    "Randomly split into training (80%) and validation (20%) set"
   ]
  },
  {
   "cell_type": "code",
   "execution_count": 17,
   "metadata": {
    "hidden": true
   },
   "outputs": [
    {
     "name": "stdout",
     "output_type": "stream",
     "text": [
      "Training samples 7120433 (0.8002247910523227), Validation samples 1777608 (0.19977520894767736)\n"
     ]
    }
   ],
   "source": [
    "msk = np.random.rand(len(ratings)) < 0.8\n",
    "train = ratings[msk]\n",
    "val = ratings[~msk]\n",
    "\n",
    "print('Training samples {} ({}), Validation samples {} ({})'.format(\n",
    "    len(train), len(train)/len(ratings), len(val), len(val)/len(ratings)))"
   ]
  },
  {
   "cell_type": "markdown",
   "metadata": {
    "hidden": true
   },
   "source": [
    "### First Model: Dot product\n",
    "The most basic approach is a dot product of a product embedding and a user embedding and add their respective biases."
   ]
  },
  {
   "cell_type": "code",
   "execution_count": 18,
   "metadata": {
    "hidden": true
   },
   "outputs": [
    {
     "name": "stderr",
     "output_type": "stream",
     "text": [
      "Using TensorFlow backend.\n"
     ]
    }
   ],
   "source": [
    "from keras.layers import Input, Embedding, dot, Flatten, merge\n",
    "from keras.regularizers import l2\n",
    "from keras.models import Model\n",
    "from keras.optimizers import Adam"
   ]
  },
  {
   "cell_type": "code",
   "execution_count": 19,
   "metadata": {
    "collapsed": true,
    "hidden": true
   },
   "outputs": [],
   "source": [
    "n_users = ratings.userId.nunique()\n",
    "n_products = ratings.productId.nunique()"
   ]
  },
  {
   "cell_type": "code",
   "execution_count": 20,
   "metadata": {
    "collapsed": true,
    "hidden": true
   },
   "outputs": [],
   "source": [
    "def embedding_input(name, n_in, n_out, reg):\n",
    "    inp = Input(shape=(1,), dtype='int64', name=name)\n",
    "    emb = Embedding(n_in, n_out, input_length=1, W_regularizer=l2(reg))(inp)\n",
    "    return inp, emb"
   ]
  },
  {
   "cell_type": "code",
   "execution_count": 21,
   "metadata": {
    "collapsed": true,
    "hidden": true
   },
   "outputs": [
    {
     "name": "stderr",
     "output_type": "stream",
     "text": [
      "/home/mark/.conda/envs/dl/lib/python3.6/site-packages/ipykernel_launcher.py:3: UserWarning: Update your `Embedding` call to the Keras 2 API: `Embedding(603668, 50, input_length=1, embeddings_regularizer=<keras.reg...)`\n",
      "  This is separate from the ipykernel package so we can avoid doing imports until\n",
      "/home/mark/.conda/envs/dl/lib/python3.6/site-packages/ipykernel_launcher.py:3: UserWarning: Update your `Embedding` call to the Keras 2 API: `Embedding(367982, 50, input_length=1, embeddings_regularizer=<keras.reg...)`\n",
      "  This is separate from the ipykernel package so we can avoid doing imports until\n"
     ]
    }
   ],
   "source": [
    "user_in, user_emb = embedding_input('user_in', n_users, n_factors, 1e-4)\n",
    "prod_in, prod_emb = embedding_input('prod_in', n_products, n_factors, 1e-4)"
   ]
  },
  {
   "cell_type": "code",
   "execution_count": 22,
   "metadata": {
    "collapsed": true,
    "hidden": true
   },
   "outputs": [],
   "source": [
    "def create_bias(inp, n_in):\n",
    "    x = Embedding(n_in, 1, input_length=1)(inp)\n",
    "    return Flatten()(x)"
   ]
  },
  {
   "cell_type": "code",
   "execution_count": 23,
   "metadata": {
    "collapsed": true,
    "hidden": true
   },
   "outputs": [],
   "source": [
    "user_bias = create_bias(user_in, n_users)\n",
    "prod_bias = create_bias(prod_in, n_products)"
   ]
  },
  {
   "cell_type": "code",
   "execution_count": 24,
   "metadata": {
    "hidden": true
   },
   "outputs": [
    {
     "name": "stderr",
     "output_type": "stream",
     "text": [
      "/home/mark/.conda/envs/dl/lib/python3.6/site-packages/ipykernel_launcher.py:1: UserWarning: The `merge` function is deprecated and will be removed after 08/2017. Use instead layers from `keras.layers.merge`, e.g. `add`, `concatenate`, etc.\n",
      "  \"\"\"Entry point for launching an IPython kernel.\n",
      "/home/mark/.conda/envs/dl/lib/python3.6/site-packages/keras/legacy/layers.py:458: UserWarning: The `Merge` layer is deprecated and will be removed after 08/2017. Use instead layers from `keras.layers.merge`, e.g. `add`, `concatenate`, etc.\n",
      "  name=name)\n",
      "/home/mark/.conda/envs/dl/lib/python3.6/site-packages/ipykernel_launcher.py:3: UserWarning: The `merge` function is deprecated and will be removed after 08/2017. Use instead layers from `keras.layers.merge`, e.g. `add`, `concatenate`, etc.\n",
      "  This is separate from the ipykernel package so we can avoid doing imports until\n",
      "/home/mark/.conda/envs/dl/lib/python3.6/site-packages/ipykernel_launcher.py:4: UserWarning: The `merge` function is deprecated and will be removed after 08/2017. Use instead layers from `keras.layers.merge`, e.g. `add`, `concatenate`, etc.\n",
      "  after removing the cwd from sys.path.\n"
     ]
    }
   ],
   "source": [
    "x = merge([user_emb, prod_emb], mode='dot')\n",
    "x = Flatten()(x)\n",
    "x = merge([x, user_bias], mode='sum')\n",
    "x = merge([x, prod_bias], mode='sum')\n",
    "\n",
    "model = Model([user_in, prod_in], x)\n",
    "model.compile(Adam(learning_rate), loss='mse', metrics=['accuracy'])"
   ]
  },
  {
   "cell_type": "code",
   "execution_count": 25,
   "metadata": {
    "collapsed": true,
    "hidden": true
   },
   "outputs": [
    {
     "name": "stdout",
     "output_type": "stream",
     "text": [
      "Train on 7120433 samples, validate on 1777608 samples\n",
      "Epoch 1/20\n",
      "7120433/7120433 [==============================] - 249s - loss: 15.0349 - acc: 0.0143 - val_loss: 11.5051 - val_acc: 0.0347\n",
      "Epoch 2/20\n",
      "7120433/7120433 [==============================] - 248s - loss: 9.0586 - acc: 0.0642 - val_loss: 7.2826 - val_acc: 0.0937\n",
      "Epoch 3/20\n",
      "7120433/7120433 [==============================] - 248s - loss: 5.8983 - acc: 0.1253 - val_loss: 5.0901 - val_acc: 0.1485\n",
      "Epoch 4/20\n",
      "7120433/7120433 [==============================] - 248s - loss: 4.2010 - acc: 0.1756 - val_loss: 3.8523 - val_acc: 0.1894\n",
      "Epoch 5/20\n",
      "7120433/7120433 [==============================] - 248s - loss: 3.1926 - acc: 0.2160 - val_loss: 3.0768 - val_acc: 0.2227\n",
      "Epoch 6/20\n",
      "7120433/7120433 [==============================] - 248s - loss: 2.5368 - acc: 0.2513 - val_loss: 2.5527 - val_acc: 0.2518\n",
      "Epoch 7/20\n",
      "7120433/7120433 [==============================] - 248s - loss: 2.0831 - acc: 0.2836 - val_loss: 2.1796 - val_acc: 0.2778\n",
      "Epoch 8/20\n",
      "7120433/7120433 [==============================] - 248s - loss: 1.7560 - acc: 0.3137 - val_loss: 1.9045 - val_acc: 0.3015\n",
      "Epoch 9/20\n",
      "7120433/7120433 [==============================] - 248s - loss: 1.5135 - acc: 0.3418 - val_loss: 1.6963 - val_acc: 0.3230\n",
      "Epoch 10/20\n",
      "7120433/7120433 [==============================] - 248s - loss: 1.3299 - acc: 0.3679 - val_loss: 1.5355 - val_acc: 0.3429\n",
      "Epoch 11/20\n",
      "7120433/7120433 [==============================] - 248s - loss: 1.1888 - acc: 0.3921 - val_loss: 1.4095 - val_acc: 0.3611\n",
      "Epoch 12/20\n",
      "7120433/7120433 [==============================] - 248s - loss: 1.0794 - acc: 0.4147 - val_loss: 1.3096 - val_acc: 0.3777\n",
      "Epoch 13/20\n",
      "7120433/7120433 [==============================] - 248s - loss: 0.9936 - acc: 0.4353 - val_loss: 1.2298 - val_acc: 0.3929\n",
      "Epoch 14/20\n",
      "7120433/7120433 [==============================] - 248s - loss: 0.9263 - acc: 0.4545 - val_loss: 1.1656 - val_acc: 0.4066\n",
      "Epoch 15/20\n",
      "7120433/7120433 [==============================] - 248s - loss: 0.8730 - acc: 0.4719 - val_loss: 1.1138 - val_acc: 0.4191\n",
      "Epoch 16/20\n",
      "7120433/7120433 [==============================] - 248s - loss: 0.8310 - acc: 0.4875 - val_loss: 1.0717 - val_acc: 0.4306\n",
      "Epoch 17/20\n",
      "7120433/7120433 [==============================] - 248s - loss: 0.7976 - acc: 0.5012 - val_loss: 1.0374 - val_acc: 0.4408\n",
      "Epoch 18/20\n",
      "7120433/7120433 [==============================] - 248s - loss: 0.7713 - acc: 0.5134 - val_loss: 1.0096 - val_acc: 0.4503\n",
      "Epoch 19/20\n",
      "7120433/7120433 [==============================] - 248s - loss: 0.7503 - acc: 0.5239 - val_loss: 0.9870 - val_acc: 0.4586\n",
      "Epoch 20/20\n",
      "7120433/7120433 [==============================] - 248s - loss: 0.7338 - acc: 0.5329 - val_loss: 0.9685 - val_acc: 0.4663\n"
     ]
    },
    {
     "data": {
      "text/plain": [
       "<keras.callbacks.History at 0x7fa9a6982cf8>"
      ]
     },
     "execution_count": 25,
     "metadata": {},
     "output_type": "execute_result"
    }
   ],
   "source": [
    "model.fit([train.userId, train.productId], train.overall, batch_size=batch_size,\n",
    "          epochs=epochs, validation_data=([val.userId, val.productId], val.overall))"
   ]
  },
  {
   "cell_type": "code",
   "execution_count": 26,
   "metadata": {
    "collapsed": true,
    "hidden": true
   },
   "outputs": [],
   "source": [
    "model.save_weights('models/dot-books.h5')\n",
    "with open('models/dot-books.json', 'w') as f:\n",
    "    f.write(model.to_json())\n",
    "f.close()"
   ]
  },
  {
   "cell_type": "markdown",
   "metadata": {
    "hidden": true
   },
   "source": [
    "### Analyze Results"
   ]
  },
  {
   "cell_type": "code",
   "execution_count": 27,
   "metadata": {
    "collapsed": true,
    "hidden": true
   },
   "outputs": [],
   "source": [
    "model.load_weights('models/dot-books.h5')"
   ]
  },
  {
   "cell_type": "markdown",
   "metadata": {
    "hidden": true
   },
   "source": [
    "We'll restrict to the top 1000 products"
   ]
  },
  {
   "cell_type": "code",
   "execution_count": 28,
   "metadata": {
    "collapsed": true,
    "hidden": true
   },
   "outputs": [],
   "source": [
    "g = ratings.groupby('productId')['overall'].count()\n",
    "top_prods = g.sort_values(ascending=False)[:1000]\n",
    "top_prods = np.array(top_prods.index)"
   ]
  },
  {
   "cell_type": "markdown",
   "metadata": {
    "hidden": true
   },
   "source": [
    "#### A look at the product bias term. "
   ]
  },
  {
   "cell_type": "code",
   "execution_count": 29,
   "metadata": {
    "collapsed": true,
    "hidden": true
   },
   "outputs": [],
   "source": [
    "get_prod_bias = Model(prod_in, prod_bias)\n",
    "product_bias = get_prod_bias.predict(top_prods)\n",
    "prod_scores = [(b[0], i) for i,b in zip(top_prods, product_bias)]"
   ]
  },
  {
   "cell_type": "markdown",
   "metadata": {
    "hidden": true
   },
   "source": [
    "#####  Top and bottom scores (products)"
   ]
  },
  {
   "cell_type": "code",
   "execution_count": 30,
   "metadata": {
    "collapsed": true,
    "hidden": true
   },
   "outputs": [],
   "source": [
    "from operator import itemgetter"
   ]
  },
  {
   "cell_type": "code",
   "execution_count": 31,
   "metadata": {
    "collapsed": true,
    "hidden": true
   },
   "outputs": [
    {
     "data": {
      "text/plain": [
       "[(0.54248488, '1892112000'),\n",
       " (1.0967101, '0345803485'),\n",
       " (1.1235007, 'B0093MU7QS'),\n",
       " (1.1773204, '0307741907'),\n",
       " (1.247512, '0517580519'),\n",
       " (1.4369099, '0099451956'),\n",
       " (1.6222056, '0091883768'),\n",
       " (1.6249024, '0307275558'),\n",
       " (1.6812198, '030727828X'),\n",
       " (1.6813415, '031218087X'),\n",
       " (1.6893973, '0425269205'),\n",
       " (1.7422723, '0099297701'),\n",
       " (1.743048, '0307950654'),\n",
       " (1.7631874, '0316228532'),\n",
       " (1.7724576, '074356619X')]"
      ]
     },
     "execution_count": 31,
     "metadata": {},
     "output_type": "execute_result"
    }
   ],
   "source": [
    "# Bottom\n",
    "prod_scores = [(b, idx2productid[i]) for b,i in prod_scores]\n",
    "sorted(prod_scores, key=itemgetter(0))[:15]"
   ]
  },
  {
   "cell_type": "code",
   "execution_count": 32,
   "metadata": {
    "collapsed": true,
    "hidden": true
   },
   "outputs": [
    {
     "data": {
      "text/plain": [
       "[(3.4578693, '0356502465'),\n",
       " (3.4181018, '0765326361'),\n",
       " (3.3473585, '0143124544'),\n",
       " (3.3472676, '023076889X'),\n",
       " (3.3235109, '0451464397'),\n",
       " (3.3175764, '0765326353'),\n",
       " (3.2667656, '0370332288'),\n",
       " (3.266572, '0061950726'),\n",
       " (3.2662535, '0345543971'),\n",
       " (3.2642975, '0141345713'),\n",
       " (3.2632172, '0007386648'),\n",
       " (3.2542779, '1480563900'),\n",
       " (3.2361443, '0743527992'),\n",
       " (3.231287, '0425252868'),\n",
       " (3.2306137, '045141912X')]"
      ]
     },
     "execution_count": 32,
     "metadata": {},
     "output_type": "execute_result"
    }
   ],
   "source": [
    "# Top\n",
    "sorted(prod_scores, key=itemgetter(0), reverse=True)[:15]"
   ]
  },
  {
   "cell_type": "markdown",
   "metadata": {
    "hidden": true
   },
   "source": [
    "#### A look at the embeddings"
   ]
  },
  {
   "cell_type": "code",
   "execution_count": 33,
   "metadata": {
    "hidden": true
   },
   "outputs": [
    {
     "data": {
      "text/plain": [
       "(1000, 50)"
      ]
     },
     "execution_count": 33,
     "metadata": {},
     "output_type": "execute_result"
    }
   ],
   "source": [
    "get_prod_emb = Model(prod_in, prod_emb)\n",
    "product_emb = np.squeeze(get_prod_emb.predict([top_prods]))\n",
    "product_emb.shape"
   ]
  },
  {
   "cell_type": "markdown",
   "metadata": {
    "hidden": true
   },
   "source": [
    "It's hard to visualize 50 (n_factors) embeddings, so we use PCA to simplify them down to just 3 vectors"
   ]
  },
  {
   "cell_type": "code",
   "execution_count": 34,
   "metadata": {
    "collapsed": true,
    "hidden": true
   },
   "outputs": [],
   "source": [
    "from sklearn.decomposition import PCA\n",
    "pca = PCA(n_components=3)\n",
    "prod_pca = pca.fit(product_emb.T).components_"
   ]
  },
  {
   "cell_type": "markdown",
   "metadata": {
    "hidden": true
   },
   "source": [
    "1st component"
   ]
  },
  {
   "cell_type": "code",
   "execution_count": 35,
   "metadata": {
    "collapsed": true,
    "hidden": true
   },
   "outputs": [],
   "source": [
    "fac0 = prod_pca[0]"
   ]
  },
  {
   "cell_type": "code",
   "execution_count": 36,
   "metadata": {
    "collapsed": true,
    "hidden": true
   },
   "outputs": [],
   "source": [
    "prod_comp = [(f, i) for f,i in zip(fac0, top_prods)]\n",
    "prod_comp = [(b, idx2productid[i]) for b,i in prod_comp]"
   ]
  },
  {
   "cell_type": "code",
   "execution_count": 37,
   "metadata": {
    "collapsed": true,
    "hidden": true
   },
   "outputs": [
    {
     "data": {
      "text/plain": [
       "[(0.99015409699348511, '0061537934'),\n",
       " (0.03440007034824677, '0316024961'),\n",
       " (0.02484767574517957, '1611099285'),\n",
       " (0.014505928376358567, '0307265439'),\n",
       " (0.0099678324471696878, '1250029880'),\n",
       " (0.0083678790251605299, '1416585834'),\n",
       " (0.0082992179314063802, '1453860959'),\n",
       " (0.0082703339368619382, '1451533969'),\n",
       " (0.0069236240100475624, '0425266516'),\n",
       " (0.0068798024786250345, '1477805028')]"
      ]
     },
     "execution_count": 37,
     "metadata": {},
     "output_type": "execute_result"
    }
   ],
   "source": [
    "sorted(prod_comp, key=itemgetter(0), reverse=True)[:10]"
   ]
  },
  {
   "cell_type": "code",
   "execution_count": 38,
   "metadata": {
    "collapsed": true,
    "hidden": true
   },
   "outputs": [
    {
     "data": {
      "text/plain": [
       "[(-0.1184655559955928, '0800733428'),\n",
       " (-0.025952932679041748, '0805090037'),\n",
       " (-0.024492873444534536, '1476712980'),\n",
       " (-0.01938769406627926, '0307934055'),\n",
       " (-0.015343848318090323, '0441018645'),\n",
       " (-0.013855591102053463, '0007172826'),\n",
       " (-0.013195580380871369, '045141411X'),\n",
       " (-0.010289132005519074, '1455578363'),\n",
       " (-0.0084978342120548486, '1480536466'),\n",
       " (-0.0076389130060686211, '0385660065')]"
      ]
     },
     "execution_count": 38,
     "metadata": {},
     "output_type": "execute_result"
    }
   ],
   "source": [
    "sorted(prod_comp, key=itemgetter(0))[:10]"
   ]
  },
  {
   "cell_type": "markdown",
   "metadata": {
    "hidden": true
   },
   "source": [
    "### Second Model: Simple Neural Net"
   ]
  },
  {
   "cell_type": "code",
   "execution_count": 39,
   "metadata": {
    "collapsed": true,
    "hidden": true
   },
   "outputs": [
    {
     "name": "stderr",
     "output_type": "stream",
     "text": [
      "/home/mark/.conda/envs/dl/lib/python3.6/site-packages/ipykernel_launcher.py:3: UserWarning: Update your `Embedding` call to the Keras 2 API: `Embedding(603668, 50, input_length=1, embeddings_regularizer=<keras.reg...)`\n",
      "  This is separate from the ipykernel package so we can avoid doing imports until\n",
      "/home/mark/.conda/envs/dl/lib/python3.6/site-packages/ipykernel_launcher.py:3: UserWarning: Update your `Embedding` call to the Keras 2 API: `Embedding(367982, 50, input_length=1, embeddings_regularizer=<keras.reg...)`\n",
      "  This is separate from the ipykernel package so we can avoid doing imports until\n"
     ]
    }
   ],
   "source": [
    "user_in, user_emb = embedding_input('user_in', n_users, n_factors, 1e-4)\n",
    "prod_in, prod_emb = embedding_input('prod_in', n_products, n_factors, 1e-4)"
   ]
  },
  {
   "cell_type": "code",
   "execution_count": 40,
   "metadata": {
    "collapsed": true,
    "hidden": true
   },
   "outputs": [],
   "source": [
    "from keras.layers import Dropout, Dense"
   ]
  },
  {
   "cell_type": "code",
   "execution_count": 41,
   "metadata": {
    "collapsed": true,
    "hidden": true
   },
   "outputs": [
    {
     "name": "stderr",
     "output_type": "stream",
     "text": [
      "/home/mark/.conda/envs/dl/lib/python3.6/site-packages/ipykernel_launcher.py:1: UserWarning: The `merge` function is deprecated and will be removed after 08/2017. Use instead layers from `keras.layers.merge`, e.g. `add`, `concatenate`, etc.\n",
      "  \"\"\"Entry point for launching an IPython kernel.\n",
      "/home/mark/.conda/envs/dl/lib/python3.6/site-packages/keras/legacy/layers.py:458: UserWarning: The `Merge` layer is deprecated and will be removed after 08/2017. Use instead layers from `keras.layers.merge`, e.g. `add`, `concatenate`, etc.\n",
      "  name=name)\n"
     ]
    }
   ],
   "source": [
    "x = merge([user_emb, prod_emb], mode='concat')\n",
    "x = Flatten()(x)\n",
    "x = Dropout(0.3)(x)\n",
    "x = Dense(70, activation='relu')(x)\n",
    "x = Dropout(0.75)(x)\n",
    "x = Dense(1)(x)\n",
    "\n",
    "nn = Model([user_in, prod_in], x)\n",
    "nn.compile(Adam(learning_rate), loss='mse', metrics=['accuracy'])"
   ]
  },
  {
   "cell_type": "code",
   "execution_count": 42,
   "metadata": {
    "collapsed": true,
    "hidden": true
   },
   "outputs": [
    {
     "name": "stdout",
     "output_type": "stream",
     "text": [
      "Train on 7120433 samples, validate on 1777608 samples\n",
      "Epoch 1/20\n",
      "7120433/7120433 [==============================] - 251s - loss: 2.3139 - acc: 0.2834 - val_loss: 1.2038 - val_acc: 0.3533\n",
      "Epoch 2/20\n",
      "7120433/7120433 [==============================] - 250s - loss: 1.2220 - acc: 0.3838 - val_loss: 1.1802 - val_acc: 0.4024\n",
      "Epoch 3/20\n",
      "7120433/7120433 [==============================] - 250s - loss: 1.1928 - acc: 0.3981 - val_loss: 1.1634 - val_acc: 0.4192\n",
      "Epoch 4/20\n",
      "7120433/7120433 [==============================] - 250s - loss: 1.1828 - acc: 0.4002 - val_loss: 1.1539 - val_acc: 0.4220\n",
      "Epoch 5/20\n",
      "7120433/7120433 [==============================] - 250s - loss: 1.1773 - acc: 0.4006 - val_loss: 1.1511 - val_acc: 0.4097\n",
      "Epoch 6/20\n",
      "7120433/7120433 [==============================] - 250s - loss: 1.1751 - acc: 0.4003 - val_loss: 1.1490 - val_acc: 0.4180\n",
      "Epoch 7/20\n",
      "7120433/7120433 [==============================] - 250s - loss: 1.1737 - acc: 0.4007 - val_loss: 1.1492 - val_acc: 0.4154\n",
      "Epoch 8/20\n",
      "7120433/7120433 [==============================] - 250s - loss: 1.1723 - acc: 0.4004 - val_loss: 1.1446 - val_acc: 0.4172\n",
      "Epoch 9/20\n",
      "7120433/7120433 [==============================] - 250s - loss: 1.1696 - acc: 0.4006 - val_loss: 1.1440 - val_acc: 0.4141\n",
      "Epoch 10/20\n",
      "7120433/7120433 [==============================] - 250s - loss: 1.1667 - acc: 0.4010 - val_loss: 1.1407 - val_acc: 0.4078\n",
      "Epoch 11/20\n",
      "7120433/7120433 [==============================] - 250s - loss: 1.1675 - acc: 0.4007 - val_loss: 1.1420 - val_acc: 0.4170\n",
      "Epoch 12/20\n",
      "7120433/7120433 [==============================] - 250s - loss: 1.1677 - acc: 0.4010 - val_loss: 1.1434 - val_acc: 0.4127\n",
      "Epoch 13/20\n",
      "7120433/7120433 [==============================] - 250s - loss: 1.1658 - acc: 0.4007 - val_loss: 1.1395 - val_acc: 0.4121\n",
      "Epoch 14/20\n",
      "7120433/7120433 [==============================] - 250s - loss: 1.1647 - acc: 0.4005 - val_loss: 1.1381 - val_acc: 0.4169\n",
      "Epoch 15/20\n",
      "7120433/7120433 [==============================] - 250s - loss: 1.1649 - acc: 0.4007 - val_loss: 1.1417 - val_acc: 0.4146\n",
      "Epoch 16/20\n",
      "7120433/7120433 [==============================] - 250s - loss: 1.1645 - acc: 0.4009 - val_loss: 1.1416 - val_acc: 0.4185\n",
      "Epoch 17/20\n",
      "7120433/7120433 [==============================] - 250s - loss: 1.1645 - acc: 0.4011 - val_loss: 1.1367 - val_acc: 0.4257\n",
      "Epoch 18/20\n",
      "7120433/7120433 [==============================] - 250s - loss: 1.1642 - acc: 0.4012 - val_loss: 1.1405 - val_acc: 0.4261\n",
      "Epoch 19/20\n",
      "7120433/7120433 [==============================] - 250s - loss: 1.1648 - acc: 0.4011 - val_loss: 1.1393 - val_acc: 0.4147\n",
      "Epoch 20/20\n",
      "7120433/7120433 [==============================] - 250s - loss: 1.1639 - acc: 0.4008 - val_loss: 1.1357 - val_acc: 0.4210\n"
     ]
    },
    {
     "data": {
      "text/plain": [
       "<keras.callbacks.History at 0x7fa9ea819c50>"
      ]
     },
     "execution_count": 42,
     "metadata": {},
     "output_type": "execute_result"
    }
   ],
   "source": [
    "nn.fit([train.userId, train.productId], train.overall, batch_size=batch_size,\n",
    "       epochs=epochs, validation_data=([val.userId, val.productId], val.overall))"
   ]
  },
  {
   "cell_type": "code",
   "execution_count": 43,
   "metadata": {
    "collapsed": true,
    "hidden": true
   },
   "outputs": [],
   "source": [
    "nn.save_weights('models/nn-books.h5')\n",
    "with open('models/nn-books.json', 'w') as f:\n",
    "    f.write(nn.to_json())\n",
    "f.close()"
   ]
  },
  {
   "cell_type": "markdown",
   "metadata": {
    "hidden": true
   },
   "source": [
    "### Test models"
   ]
  },
  {
   "cell_type": "code",
   "execution_count": 44,
   "metadata": {
    "hidden": true
   },
   "outputs": [
    {
     "name": "stdout",
     "output_type": "stream",
     "text": [
      "    overall  userId  productId\n",
      "1       5.0       1          0\n",
      "6       5.0       6          0\n",
      "9       5.0       9          0\n",
      "10      5.0      10          0\n",
      "16      5.0      16          0\n",
      "18      5.0      18          0\n",
      "19      5.0      19          0\n",
      "24      5.0      24          0\n",
      "27      5.0      27          0\n",
      "28      5.0      28          0\n"
     ]
    }
   ],
   "source": [
    "test_ratings = val[:10]\n",
    "print(test_ratings)"
   ]
  },
  {
   "cell_type": "code",
   "execution_count": 45,
   "metadata": {
    "collapsed": true,
    "hidden": true
   },
   "outputs": [],
   "source": [
    "users = test_ratings['userId'].values\n",
    "prods = test_ratings['productId'].values"
   ]
  },
  {
   "cell_type": "code",
   "execution_count": 46,
   "metadata": {
    "hidden": true
   },
   "outputs": [
    {
     "name": "stderr",
     "output_type": "stream",
     "text": [
      "/home/mark/.conda/envs/dl/lib/python3.6/site-packages/ipykernel_launcher.py:1: SettingWithCopyWarning: \n",
      "A value is trying to be set on a copy of a slice from a DataFrame.\n",
      "Try using .loc[row_indexer,col_indexer] = value instead\n",
      "\n",
      "See the caveats in the documentation: http://pandas.pydata.org/pandas-docs/stable/indexing.html#indexing-view-versus-copy\n",
      "  \"\"\"Entry point for launching an IPython kernel.\n"
     ]
    }
   ],
   "source": [
    "test_ratings['preds'] = nn.predict([users, prods])"
   ]
  },
  {
   "cell_type": "code",
   "execution_count": 47,
   "metadata": {
    "hidden": true
   },
   "outputs": [
    {
     "data": {
      "text/html": [
       "<div>\n",
       "<style>\n",
       "    .dataframe thead tr:only-child th {\n",
       "        text-align: right;\n",
       "    }\n",
       "\n",
       "    .dataframe thead th {\n",
       "        text-align: left;\n",
       "    }\n",
       "\n",
       "    .dataframe tbody tr th {\n",
       "        vertical-align: top;\n",
       "    }\n",
       "</style>\n",
       "<table border=\"1\" class=\"dataframe\">\n",
       "  <thead>\n",
       "    <tr style=\"text-align: right;\">\n",
       "      <th></th>\n",
       "      <th>overall</th>\n",
       "      <th>userId</th>\n",
       "      <th>productId</th>\n",
       "      <th>preds</th>\n",
       "    </tr>\n",
       "  </thead>\n",
       "  <tbody>\n",
       "    <tr>\n",
       "      <th>1</th>\n",
       "      <td>5.0</td>\n",
       "      <td>1</td>\n",
       "      <td>0</td>\n",
       "      <td>4.461370</td>\n",
       "    </tr>\n",
       "    <tr>\n",
       "      <th>6</th>\n",
       "      <td>5.0</td>\n",
       "      <td>6</td>\n",
       "      <td>0</td>\n",
       "      <td>4.780422</td>\n",
       "    </tr>\n",
       "    <tr>\n",
       "      <th>9</th>\n",
       "      <td>5.0</td>\n",
       "      <td>9</td>\n",
       "      <td>0</td>\n",
       "      <td>4.484874</td>\n",
       "    </tr>\n",
       "    <tr>\n",
       "      <th>10</th>\n",
       "      <td>5.0</td>\n",
       "      <td>10</td>\n",
       "      <td>0</td>\n",
       "      <td>4.374266</td>\n",
       "    </tr>\n",
       "    <tr>\n",
       "      <th>16</th>\n",
       "      <td>5.0</td>\n",
       "      <td>16</td>\n",
       "      <td>0</td>\n",
       "      <td>4.430554</td>\n",
       "    </tr>\n",
       "    <tr>\n",
       "      <th>18</th>\n",
       "      <td>5.0</td>\n",
       "      <td>18</td>\n",
       "      <td>0</td>\n",
       "      <td>4.385927</td>\n",
       "    </tr>\n",
       "    <tr>\n",
       "      <th>19</th>\n",
       "      <td>5.0</td>\n",
       "      <td>19</td>\n",
       "      <td>0</td>\n",
       "      <td>4.123089</td>\n",
       "    </tr>\n",
       "    <tr>\n",
       "      <th>24</th>\n",
       "      <td>5.0</td>\n",
       "      <td>24</td>\n",
       "      <td>0</td>\n",
       "      <td>4.460001</td>\n",
       "    </tr>\n",
       "    <tr>\n",
       "      <th>27</th>\n",
       "      <td>5.0</td>\n",
       "      <td>27</td>\n",
       "      <td>0</td>\n",
       "      <td>4.466776</td>\n",
       "    </tr>\n",
       "    <tr>\n",
       "      <th>28</th>\n",
       "      <td>5.0</td>\n",
       "      <td>28</td>\n",
       "      <td>0</td>\n",
       "      <td>4.474891</td>\n",
       "    </tr>\n",
       "  </tbody>\n",
       "</table>\n",
       "</div>"
      ],
      "text/plain": [
       "    overall  userId  productId     preds\n",
       "1       5.0       1          0  4.461370\n",
       "6       5.0       6          0  4.780422\n",
       "9       5.0       9          0  4.484874\n",
       "10      5.0      10          0  4.374266\n",
       "16      5.0      16          0  4.430554\n",
       "18      5.0      18          0  4.385927\n",
       "19      5.0      19          0  4.123089\n",
       "24      5.0      24          0  4.460001\n",
       "27      5.0      27          0  4.466776\n",
       "28      5.0      28          0  4.474891"
      ]
     },
     "execution_count": 47,
     "metadata": {},
     "output_type": "execute_result"
    }
   ],
   "source": [
    "test_ratings"
   ]
  },
  {
   "cell_type": "markdown",
   "metadata": {},
   "source": [
    "## 3. NLP"
   ]
  },
  {
   "cell_type": "code",
   "execution_count": 50,
   "metadata": {},
   "outputs": [],
   "source": [
    "import spacy\n",
    "nlp = spacy.load('en')"
   ]
  },
  {
   "cell_type": "code",
   "execution_count": 52,
   "metadata": {
    "collapsed": true
   },
   "outputs": [],
   "source": [
    "reviews = data[['asin', 'reviewerID', 'reviewText', 'summary']]"
   ]
  },
  {
   "cell_type": "code",
   "execution_count": 56,
   "metadata": {},
   "outputs": [
    {
     "data": {
      "text/html": [
       "<div>\n",
       "<style>\n",
       "    .dataframe thead tr:only-child th {\n",
       "        text-align: right;\n",
       "    }\n",
       "\n",
       "    .dataframe thead th {\n",
       "        text-align: left;\n",
       "    }\n",
       "\n",
       "    .dataframe tbody tr th {\n",
       "        vertical-align: top;\n",
       "    }\n",
       "</style>\n",
       "<table border=\"1\" class=\"dataframe\">\n",
       "  <thead>\n",
       "    <tr style=\"text-align: right;\">\n",
       "      <th></th>\n",
       "      <th>asin</th>\n",
       "      <th>reviewerID</th>\n",
       "      <th>reviewText</th>\n",
       "      <th>summary</th>\n",
       "    </tr>\n",
       "  </thead>\n",
       "  <tbody>\n",
       "    <tr>\n",
       "      <th>0</th>\n",
       "      <td>000100039X</td>\n",
       "      <td>A10000012B7CGYKOMPQ4L</td>\n",
       "      <td>Spiritually and mentally inspiring! A book tha...</td>\n",
       "      <td>Wonderful!</td>\n",
       "    </tr>\n",
       "    <tr>\n",
       "      <th>1</th>\n",
       "      <td>000100039X</td>\n",
       "      <td>A2S166WSCFIFP5</td>\n",
       "      <td>This is one my must have books. It is a master...</td>\n",
       "      <td>close to god</td>\n",
       "    </tr>\n",
       "    <tr>\n",
       "      <th>2</th>\n",
       "      <td>000100039X</td>\n",
       "      <td>A1BM81XB4QHOA3</td>\n",
       "      <td>This book provides a reflection that you can a...</td>\n",
       "      <td>Must Read for Life Afficianados</td>\n",
       "    </tr>\n",
       "    <tr>\n",
       "      <th>3</th>\n",
       "      <td>000100039X</td>\n",
       "      <td>A1MOSTXNIO5MPJ</td>\n",
       "      <td>I first read THE PROPHET in college back in th...</td>\n",
       "      <td>Timeless for every good and bad time in your l...</td>\n",
       "    </tr>\n",
       "    <tr>\n",
       "      <th>4</th>\n",
       "      <td>000100039X</td>\n",
       "      <td>A2XQ5LZHTD4AFT</td>\n",
       "      <td>A timeless classic.  It is a very demanding an...</td>\n",
       "      <td>A Modern Rumi</td>\n",
       "    </tr>\n",
       "  </tbody>\n",
       "</table>\n",
       "</div>"
      ],
      "text/plain": [
       "         asin             reviewerID  \\\n",
       "0  000100039X  A10000012B7CGYKOMPQ4L   \n",
       "1  000100039X         A2S166WSCFIFP5   \n",
       "2  000100039X         A1BM81XB4QHOA3   \n",
       "3  000100039X         A1MOSTXNIO5MPJ   \n",
       "4  000100039X         A2XQ5LZHTD4AFT   \n",
       "\n",
       "                                          reviewText  \\\n",
       "0  Spiritually and mentally inspiring! A book tha...   \n",
       "1  This is one my must have books. It is a master...   \n",
       "2  This book provides a reflection that you can a...   \n",
       "3  I first read THE PROPHET in college back in th...   \n",
       "4  A timeless classic.  It is a very demanding an...   \n",
       "\n",
       "                                             summary  \n",
       "0                                         Wonderful!  \n",
       "1                                       close to god  \n",
       "2                    Must Read for Life Afficianados  \n",
       "3  Timeless for every good and bad time in your l...  \n",
       "4                                      A Modern Rumi  "
      ]
     },
     "execution_count": 56,
     "metadata": {},
     "output_type": "execute_result"
    }
   ],
   "source": [
    "reviews.head()"
   ]
  },
  {
   "cell_type": "code",
   "execution_count": 57,
   "metadata": {
    "collapsed": true
   },
   "outputs": [],
   "source": [
    "reviews_text = ''.join(reviews['reviewText'])"
   ]
  },
  {
   "cell_type": "code",
   "execution_count": 58,
   "metadata": {},
   "outputs": [
    {
     "data": {
      "text/plain": [
       "7286830869"
      ]
     },
     "execution_count": 58,
     "metadata": {},
     "output_type": "execute_result"
    }
   ],
   "source": [
    "len(reviews_text)"
   ]
  },
  {
   "cell_type": "code",
   "execution_count": 64,
   "metadata": {},
   "outputs": [],
   "source": [
    "doc = nlp.make_doc_doc(reviews_text[:100000])"
   ]
  },
  {
   "cell_type": "code",
   "execution_count": 65,
   "metadata": {
    "collapsed": true
   },
   "outputs": [],
   "source": [
    "for proc in nlp.pipeline:\n",
    "    proc(doc)"
   ]
  },
  {
   "cell_type": "code",
   "execution_count": 75,
   "metadata": {},
   "outputs": [
    {
     "name": "stdout",
     "output_type": "stream",
     "text": [
      "Spiritually : spiritually Xxxxx ADV RB ROOT\n",
      "and : and xxx CCONJ CC cc\n",
      "mentally : mentally xxxx ADV RB advmod\n",
      "inspiring : inspiring xxxx ADJ JJ conj\n",
      "! : ! ! PUNCT . punct\n",
      "A : a X DET DT det\n",
      "book : book xxxx NOUN NN nsubj\n",
      "that : that xxxx ADJ WDT nsubj\n",
      "allows : allow xxxx VERB VBZ relcl\n",
      "you : -PRON- xxx PRON PRP nsubj\n",
      "to : to xx PART TO aux\n",
      "question : question xxxx VERB VB ccomp\n",
      "your : -PRON- xxxx ADJ PRP$ poss\n",
      "morals : moral xxxx NOUN NNS dobj\n",
      "and : and xxx CCONJ CC cc\n",
      "will : will xxxx VERB MD aux\n",
      "help : help xxxx VERB VB ROOT\n",
      "you : -PRON- xxx PRON PRP nsubj\n",
      "discover : discover xxxx VERB VB xcomp\n",
      "who : who xxx NOUN WP dobj\n",
      "you : -PRON- xxx PRON PRP nsubj\n",
      "really : really xxxx ADV RB advmod\n",
      "are!This : are!this xxx!Xxxx DET DT nsubj\n",
      "is : be xx VERB VBZ ccomp\n",
      "one : one xxx NUM CD dobj\n",
      "my : -PRON- xx ADJ PRP$ nsubj\n",
      "must : must xxxx VERB MD aux\n",
      "have : have xxxx VERB VB relcl\n",
      "books : book xxxx NOUN NNS dobj\n",
      ". : . . PUNCT . punct\n",
      "It : -PRON- Xx PRON PRP nsubj\n",
      "is : be xx VERB VBZ ROOT\n",
      "a : a x DET DT det\n",
      "masterpiece : masterpiece xxxx NOUN NN attr\n",
      "of : of xx ADP IN prep\n",
      "spirituality : spirituality xxxx NOUN NN pobj\n",
      ". : . . PUNCT . punct\n",
      "I : -PRON- X PRON PRP nsubj\n",
      "'ll : will 'xx VERB MD aux\n",
      "be : be xx VERB VB ROOT\n",
      "the : the xxx DET DT det\n",
      "first : first xxxx ADJ JJ attr\n",
      "to : to xx PART TO aux\n",
      "admit : admit xxxx VERB VB relcl\n",
      ", : , , PUNCT , punct\n",
      "its : -PRON- xxx ADJ PRP$ poss\n",
      "literary : literary xxxx ADJ JJ amod\n",
      "quality : quality xxxx NOUN NN nsubj\n",
      "is : be xx VERB VBZ conj\n",
      "n't : not x'x ADV RB neg\n",
      "much : much xxxx ADV RB advmod\n",
      ". : . . PUNCT . punct\n",
      "It : -PRON- Xx PRON PRP nsubj\n",
      "is : be xx VERB VBZ auxpass\n",
      "rather : rather xxxx ADV RB advmod\n",
      "simplistically : simplistically xxxx ADV RB ccomp\n",
      "written : write xxxx VERB VBN ROOT\n",
      ", : , , PUNCT , punct\n",
      "but : but xxx CCONJ CC cc\n",
      "the : the xxx DET DT det\n",
      "message : message xxxx NOUN NN nsubj\n",
      "behind : behind xxxx ADP IN prep\n",
      "it : -PRON- xx PRON PRP pobj\n",
      "is : be xx VERB VBZ conj\n",
      "so : so xx ADV RB advmod\n",
      "powerful : powerful xxxx ADJ JJ acomp\n",
      "that : that xxxx ADP IN mark\n",
      "you : -PRON- xxx PRON PRP nsubj\n",
      "have : have xxxx VERB VBP ccomp\n",
      "to : to xx PART TO aux\n",
      "read : read xxxx VERB VB xcomp\n",
      "it : -PRON- xx PRON PRP dobj\n",
      ". : . . PUNCT . punct\n",
      "It : -PRON- Xx PRON PRP nsubj\n",
      "will : will xxxx VERB MD aux\n",
      "take : take xxxx VERB VB ROOT\n",
      "you : -PRON- xxx PRON PRP dobj\n",
      "to : to xx ADP IN prep\n",
      "enlightenment : enlightenment xxxx NOUN NN pobj\n",
      ". : . . PUNCT . punct\n",
      "This : this Xxxx DET DT det\n",
      "book : book xxxx NOUN NN nsubj\n",
      "provides : provide xxxx VERB VBZ ROOT\n",
      "a : a x DET DT det\n",
      "reflection : reflection xxxx NOUN NN dobj\n",
      "that : that xxxx ADJ WDT mark\n",
      "you : -PRON- xxx PRON PRP nsubj\n",
      "can : can xxx VERB MD aux\n",
      "apply : apply xxxx VERB VB relcl\n",
      "to : to xx ADP IN prep\n",
      "your : -PRON- xxxx ADJ PRP$ poss\n",
      "own : own xxx ADJ JJ amod\n",
      "life : life xxxx NOUN NN pobj\n",
      ". : . . PUNCT . punct\n",
      "And : and Xxx CCONJ CC ROOT\n",
      ", : , , PUNCT , punct\n",
      "a : a x DET DT det\n",
      "way : way xxx NOUN NN npadvmod\n",
      "for : for xxx ADP IN mark\n",
      "you : -PRON- xxx PRON PRP nsubj\n"
     ]
    }
   ],
   "source": [
    "for word in doc[:100]:\n",
    "    print(word.text,':', word.lemma_, word.shape_, word.pos_, word.tag_, word.dep_)"
   ]
  },
  {
   "cell_type": "code",
   "execution_count": null,
   "metadata": {
    "collapsed": true
   },
   "outputs": [],
   "source": []
  }
 ],
 "metadata": {
  "kernelspec": {
   "display_name": "Python 3",
   "language": "python",
   "name": "python3"
  },
  "language_info": {
   "codemirror_mode": {
    "name": "ipython",
    "version": 3
   },
   "file_extension": ".py",
   "mimetype": "text/x-python",
   "name": "python",
   "nbconvert_exporter": "python",
   "pygments_lexer": "ipython3",
   "version": "3.6.1"
  }
 },
 "nbformat": 4,
 "nbformat_minor": 2
}
