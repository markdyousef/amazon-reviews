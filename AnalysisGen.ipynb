{
 "cells": [
  {
   "cell_type": "markdown",
   "metadata": {},
   "source": [
    "# Information\n",
    "\n",
    "## Amazon data\n",
    "* [Kaggle](https://www.kaggle.com/snap/amazon-fine-food-reviews)\n",
    "* product info: GET amazon.com/dp/B00006HAXW\n",
    "* [More data!](http://jmcauley.ucsd.edu/data/amazon/)\n",
    "\n",
    "## Action Plan\n",
    "\n",
    "Small Data sample:\n",
    "1. Explore Data\n",
    "2. Collaborative Filtering\n",
    "3. Sentiment Analysis\n",
    "4. Seq2Seq summarizer\n",
    "5. Web interface\n",
    "\n",
    "Large Data samples:\n",
    "* Implement above pipeline"
   ]
  },
  {
   "cell_type": "markdown",
   "metadata": {},
   "source": [
    "## Data Discovery"
   ]
  },
  {
   "cell_type": "code",
   "execution_count": 1,
   "metadata": {
    "collapsed": true
   },
   "outputs": [],
   "source": [
    "import pandas as pd\n",
    "import numpy as np"
   ]
  },
  {
   "cell_type": "code",
   "execution_count": 2,
   "metadata": {},
   "outputs": [],
   "source": [
    "data = pd.read_csv('data/Reviews.csv', index_col='Id')"
   ]
  },
  {
   "cell_type": "code",
   "execution_count": 3,
   "metadata": {},
   "outputs": [
    {
     "data": {
      "text/html": [
       "<div>\n",
       "<style>\n",
       "    .dataframe thead tr:only-child th {\n",
       "        text-align: right;\n",
       "    }\n",
       "\n",
       "    .dataframe thead th {\n",
       "        text-align: left;\n",
       "    }\n",
       "\n",
       "    .dataframe tbody tr th {\n",
       "        vertical-align: top;\n",
       "    }\n",
       "</style>\n",
       "<table border=\"1\" class=\"dataframe\">\n",
       "  <thead>\n",
       "    <tr style=\"text-align: right;\">\n",
       "      <th></th>\n",
       "      <th>ProductId</th>\n",
       "      <th>UserId</th>\n",
       "      <th>ProfileName</th>\n",
       "      <th>HelpfulnessNumerator</th>\n",
       "      <th>HelpfulnessDenominator</th>\n",
       "      <th>Score</th>\n",
       "      <th>Time</th>\n",
       "      <th>Summary</th>\n",
       "      <th>Text</th>\n",
       "    </tr>\n",
       "    <tr>\n",
       "      <th>Id</th>\n",
       "      <th></th>\n",
       "      <th></th>\n",
       "      <th></th>\n",
       "      <th></th>\n",
       "      <th></th>\n",
       "      <th></th>\n",
       "      <th></th>\n",
       "      <th></th>\n",
       "      <th></th>\n",
       "    </tr>\n",
       "  </thead>\n",
       "  <tbody>\n",
       "    <tr>\n",
       "      <th>1</th>\n",
       "      <td>B001E4KFG0</td>\n",
       "      <td>A3SGXH7AUHU8GW</td>\n",
       "      <td>delmartian</td>\n",
       "      <td>1</td>\n",
       "      <td>1</td>\n",
       "      <td>5</td>\n",
       "      <td>1303862400</td>\n",
       "      <td>Good Quality Dog Food</td>\n",
       "      <td>I have bought several of the Vitality canned d...</td>\n",
       "    </tr>\n",
       "    <tr>\n",
       "      <th>2</th>\n",
       "      <td>B00813GRG4</td>\n",
       "      <td>A1D87F6ZCVE5NK</td>\n",
       "      <td>dll pa</td>\n",
       "      <td>0</td>\n",
       "      <td>0</td>\n",
       "      <td>1</td>\n",
       "      <td>1346976000</td>\n",
       "      <td>Not as Advertised</td>\n",
       "      <td>Product arrived labeled as Jumbo Salted Peanut...</td>\n",
       "    </tr>\n",
       "    <tr>\n",
       "      <th>3</th>\n",
       "      <td>B000LQOCH0</td>\n",
       "      <td>ABXLMWJIXXAIN</td>\n",
       "      <td>Natalia Corres \"Natalia Corres\"</td>\n",
       "      <td>1</td>\n",
       "      <td>1</td>\n",
       "      <td>4</td>\n",
       "      <td>1219017600</td>\n",
       "      <td>\"Delight\" says it all</td>\n",
       "      <td>This is a confection that has been around a fe...</td>\n",
       "    </tr>\n",
       "    <tr>\n",
       "      <th>4</th>\n",
       "      <td>B000UA0QIQ</td>\n",
       "      <td>A395BORC6FGVXV</td>\n",
       "      <td>Karl</td>\n",
       "      <td>3</td>\n",
       "      <td>3</td>\n",
       "      <td>2</td>\n",
       "      <td>1307923200</td>\n",
       "      <td>Cough Medicine</td>\n",
       "      <td>If you are looking for the secret ingredient i...</td>\n",
       "    </tr>\n",
       "    <tr>\n",
       "      <th>5</th>\n",
       "      <td>B006K2ZZ7K</td>\n",
       "      <td>A1UQRSCLF8GW1T</td>\n",
       "      <td>Michael D. Bigham \"M. Wassir\"</td>\n",
       "      <td>0</td>\n",
       "      <td>0</td>\n",
       "      <td>5</td>\n",
       "      <td>1350777600</td>\n",
       "      <td>Great taffy</td>\n",
       "      <td>Great taffy at a great price.  There was a wid...</td>\n",
       "    </tr>\n",
       "  </tbody>\n",
       "</table>\n",
       "</div>"
      ],
      "text/plain": [
       "     ProductId          UserId                      ProfileName  \\\n",
       "Id                                                                \n",
       "1   B001E4KFG0  A3SGXH7AUHU8GW                       delmartian   \n",
       "2   B00813GRG4  A1D87F6ZCVE5NK                           dll pa   \n",
       "3   B000LQOCH0   ABXLMWJIXXAIN  Natalia Corres \"Natalia Corres\"   \n",
       "4   B000UA0QIQ  A395BORC6FGVXV                             Karl   \n",
       "5   B006K2ZZ7K  A1UQRSCLF8GW1T    Michael D. Bigham \"M. Wassir\"   \n",
       "\n",
       "    HelpfulnessNumerator  HelpfulnessDenominator  Score        Time  \\\n",
       "Id                                                                    \n",
       "1                      1                       1      5  1303862400   \n",
       "2                      0                       0      1  1346976000   \n",
       "3                      1                       1      4  1219017600   \n",
       "4                      3                       3      2  1307923200   \n",
       "5                      0                       0      5  1350777600   \n",
       "\n",
       "                  Summary                                               Text  \n",
       "Id                                                                            \n",
       "1   Good Quality Dog Food  I have bought several of the Vitality canned d...  \n",
       "2       Not as Advertised  Product arrived labeled as Jumbo Salted Peanut...  \n",
       "3   \"Delight\" says it all  This is a confection that has been around a fe...  \n",
       "4          Cough Medicine  If you are looking for the secret ingredient i...  \n",
       "5             Great taffy  Great taffy at a great price.  There was a wid...  "
      ]
     },
     "execution_count": 3,
     "metadata": {},
     "output_type": "execute_result"
    }
   ],
   "source": [
    "data.head()"
   ]
  },
  {
   "cell_type": "code",
   "execution_count": 4,
   "metadata": {},
   "outputs": [
    {
     "data": {
      "text/plain": [
       "Index(['ProductId', 'UserId', 'ProfileName', 'HelpfulnessNumerator',\n",
       "       'HelpfulnessDenominator', 'Score', 'Time', 'Summary', 'Text'],\n",
       "      dtype='object')"
      ]
     },
     "execution_count": 4,
     "metadata": {},
     "output_type": "execute_result"
    }
   ],
   "source": [
    "data.columns"
   ]
  },
  {
   "cell_type": "code",
   "execution_count": 5,
   "metadata": {},
   "outputs": [
    {
     "data": {
      "text/html": [
       "<div>\n",
       "<style>\n",
       "    .dataframe thead tr:only-child th {\n",
       "        text-align: right;\n",
       "    }\n",
       "\n",
       "    .dataframe thead th {\n",
       "        text-align: left;\n",
       "    }\n",
       "\n",
       "    .dataframe tbody tr th {\n",
       "        vertical-align: top;\n",
       "    }\n",
       "</style>\n",
       "<table border=\"1\" class=\"dataframe\">\n",
       "  <thead>\n",
       "    <tr style=\"text-align: right;\">\n",
       "      <th></th>\n",
       "      <th>HelpfulnessNumerator</th>\n",
       "      <th>HelpfulnessDenominator</th>\n",
       "      <th>Score</th>\n",
       "      <th>Time</th>\n",
       "    </tr>\n",
       "  </thead>\n",
       "  <tbody>\n",
       "    <tr>\n",
       "      <th>count</th>\n",
       "      <td>568454.000000</td>\n",
       "      <td>568454.00000</td>\n",
       "      <td>568454.000000</td>\n",
       "      <td>5.684540e+05</td>\n",
       "    </tr>\n",
       "    <tr>\n",
       "      <th>mean</th>\n",
       "      <td>1.743817</td>\n",
       "      <td>2.22881</td>\n",
       "      <td>4.183199</td>\n",
       "      <td>1.296257e+09</td>\n",
       "    </tr>\n",
       "    <tr>\n",
       "      <th>std</th>\n",
       "      <td>7.636513</td>\n",
       "      <td>8.28974</td>\n",
       "      <td>1.310436</td>\n",
       "      <td>4.804331e+07</td>\n",
       "    </tr>\n",
       "    <tr>\n",
       "      <th>min</th>\n",
       "      <td>0.000000</td>\n",
       "      <td>0.00000</td>\n",
       "      <td>1.000000</td>\n",
       "      <td>9.393408e+08</td>\n",
       "    </tr>\n",
       "    <tr>\n",
       "      <th>25%</th>\n",
       "      <td>0.000000</td>\n",
       "      <td>0.00000</td>\n",
       "      <td>4.000000</td>\n",
       "      <td>1.271290e+09</td>\n",
       "    </tr>\n",
       "    <tr>\n",
       "      <th>50%</th>\n",
       "      <td>0.000000</td>\n",
       "      <td>1.00000</td>\n",
       "      <td>5.000000</td>\n",
       "      <td>1.311120e+09</td>\n",
       "    </tr>\n",
       "    <tr>\n",
       "      <th>75%</th>\n",
       "      <td>2.000000</td>\n",
       "      <td>2.00000</td>\n",
       "      <td>5.000000</td>\n",
       "      <td>1.332720e+09</td>\n",
       "    </tr>\n",
       "    <tr>\n",
       "      <th>max</th>\n",
       "      <td>866.000000</td>\n",
       "      <td>923.00000</td>\n",
       "      <td>5.000000</td>\n",
       "      <td>1.351210e+09</td>\n",
       "    </tr>\n",
       "  </tbody>\n",
       "</table>\n",
       "</div>"
      ],
      "text/plain": [
       "       HelpfulnessNumerator  HelpfulnessDenominator          Score  \\\n",
       "count         568454.000000            568454.00000  568454.000000   \n",
       "mean               1.743817                 2.22881       4.183199   \n",
       "std                7.636513                 8.28974       1.310436   \n",
       "min                0.000000                 0.00000       1.000000   \n",
       "25%                0.000000                 0.00000       4.000000   \n",
       "50%                0.000000                 1.00000       5.000000   \n",
       "75%                2.000000                 2.00000       5.000000   \n",
       "max              866.000000               923.00000       5.000000   \n",
       "\n",
       "               Time  \n",
       "count  5.684540e+05  \n",
       "mean   1.296257e+09  \n",
       "std    4.804331e+07  \n",
       "min    9.393408e+08  \n",
       "25%    1.271290e+09  \n",
       "50%    1.311120e+09  \n",
       "75%    1.332720e+09  \n",
       "max    1.351210e+09  "
      ]
     },
     "execution_count": 5,
     "metadata": {},
     "output_type": "execute_result"
    }
   ],
   "source": [
    "data.describe()"
   ]
  },
  {
   "cell_type": "code",
   "execution_count": 6,
   "metadata": {
    "collapsed": true
   },
   "outputs": [],
   "source": [
    "from collections import Counter"
   ]
  },
  {
   "cell_type": "code",
   "execution_count": 7,
   "metadata": {},
   "outputs": [
    {
     "name": "stdout",
     "output_type": "stream",
     "text": [
      "[('B007JFMH8M', 913), ('B002QWP89S', 632), ('B0026RQTGE', 632), ('B002QWHJOU', 632), ('B002QWP8H0', 632), ('B003B3OOPA', 623), ('B001EO5Q64', 567), ('B0013NUGDE', 564), ('B007M83302', 564), ('B000VK8AVK', 564)]\n",
      "Length: 74258\n"
     ]
    }
   ],
   "source": [
    "product_counts = Counter(data['ProductId'])\n",
    "print(product_counts.most_common(10))\n",
    "print('Length: {}'.format(len(product_counts)))"
   ]
  },
  {
   "cell_type": "code",
   "execution_count": 8,
   "metadata": {},
   "outputs": [
    {
     "name": "stdout",
     "output_type": "stream",
     "text": [
      "[('A3OXHLG6DIBRW8', 448), ('A1YUL9PCJR3JTY', 421), ('AY12DBB0U420B', 389), ('A281NPSIMI1C2R', 365), ('A1Z54EM24Y40LL', 256), ('A1TMAVN4CEM8U8', 204), ('A2MUGFV2TDQ47K', 201), ('A3TVZM3ZIXG8YW', 199), ('A3PJZ8TU8FDQ1K', 178), ('AQQLWCMRNDFGI', 176)]\n",
      "Length: 256059\n"
     ]
    }
   ],
   "source": [
    "user_counts = Counter(data['UserId'])\n",
    "print(user_counts.most_common(10))\n",
    "print('Length: {}'.format(len(user_counts)))"
   ]
  },
  {
   "cell_type": "markdown",
   "metadata": {},
   "source": []
  },
  {
   "cell_type": "markdown",
   "metadata": {},
   "source": [
    "## 1. Collaborative Filtering"
   ]
  },
  {
   "cell_type": "markdown",
   "metadata": {},
   "source": [
    "### Basic filtering based on user score"
   ]
  },
  {
   "cell_type": "code",
   "execution_count": 9,
   "metadata": {
    "collapsed": true
   },
   "outputs": [],
   "source": [
    "ratings = data[['ProductId', 'UserId', 'Score']]"
   ]
  },
  {
   "cell_type": "code",
   "execution_count": 10,
   "metadata": {},
   "outputs": [
    {
     "data": {
      "text/html": [
       "<div>\n",
       "<style>\n",
       "    .dataframe thead tr:only-child th {\n",
       "        text-align: right;\n",
       "    }\n",
       "\n",
       "    .dataframe thead th {\n",
       "        text-align: left;\n",
       "    }\n",
       "\n",
       "    .dataframe tbody tr th {\n",
       "        vertical-align: top;\n",
       "    }\n",
       "</style>\n",
       "<table border=\"1\" class=\"dataframe\">\n",
       "  <thead>\n",
       "    <tr style=\"text-align: right;\">\n",
       "      <th></th>\n",
       "      <th>ProductId</th>\n",
       "      <th>UserId</th>\n",
       "      <th>Score</th>\n",
       "    </tr>\n",
       "    <tr>\n",
       "      <th>Id</th>\n",
       "      <th></th>\n",
       "      <th></th>\n",
       "      <th></th>\n",
       "    </tr>\n",
       "  </thead>\n",
       "  <tbody>\n",
       "    <tr>\n",
       "      <th>1</th>\n",
       "      <td>B001E4KFG0</td>\n",
       "      <td>A3SGXH7AUHU8GW</td>\n",
       "      <td>5</td>\n",
       "    </tr>\n",
       "    <tr>\n",
       "      <th>2</th>\n",
       "      <td>B00813GRG4</td>\n",
       "      <td>A1D87F6ZCVE5NK</td>\n",
       "      <td>1</td>\n",
       "    </tr>\n",
       "    <tr>\n",
       "      <th>3</th>\n",
       "      <td>B000LQOCH0</td>\n",
       "      <td>ABXLMWJIXXAIN</td>\n",
       "      <td>4</td>\n",
       "    </tr>\n",
       "    <tr>\n",
       "      <th>4</th>\n",
       "      <td>B000UA0QIQ</td>\n",
       "      <td>A395BORC6FGVXV</td>\n",
       "      <td>2</td>\n",
       "    </tr>\n",
       "    <tr>\n",
       "      <th>5</th>\n",
       "      <td>B006K2ZZ7K</td>\n",
       "      <td>A1UQRSCLF8GW1T</td>\n",
       "      <td>5</td>\n",
       "    </tr>\n",
       "  </tbody>\n",
       "</table>\n",
       "</div>"
      ],
      "text/plain": [
       "     ProductId          UserId  Score\n",
       "Id                                   \n",
       "1   B001E4KFG0  A3SGXH7AUHU8GW      5\n",
       "2   B00813GRG4  A1D87F6ZCVE5NK      1\n",
       "3   B000LQOCH0   ABXLMWJIXXAIN      4\n",
       "4   B000UA0QIQ  A395BORC6FGVXV      2\n",
       "5   B006K2ZZ7K  A1UQRSCLF8GW1T      5"
      ]
     },
     "execution_count": 10,
     "metadata": {},
     "output_type": "execute_result"
    }
   ],
   "source": [
    "ratings.head()"
   ]
  },
  {
   "cell_type": "code",
   "execution_count": 11,
   "metadata": {
    "collapsed": true
   },
   "outputs": [],
   "source": [
    "users = ratings['UserId'].unique()\n",
    "products = ratings['ProductId'].unique()"
   ]
  },
  {
   "cell_type": "code",
   "execution_count": 12,
   "metadata": {
    "collapsed": true
   },
   "outputs": [],
   "source": [
    "userid2idx = {o:i for i,o in enumerate(users)}\n",
    "productid2idx = {o:i for i,o in enumerate(products)}\n",
    "idx2usedid = {i:o for i,o in enumerate(users)}\n",
    "idx2productid = {i:o for i,o in enumerate(products)}"
   ]
  },
  {
   "cell_type": "markdown",
   "metadata": {},
   "source": [
    "We update the user and product ids to be continous integers, which we want when using embeddings"
   ]
  },
  {
   "cell_type": "code",
   "execution_count": 13,
   "metadata": {
    "scrolled": true
   },
   "outputs": [
    {
     "name": "stderr",
     "output_type": "stream",
     "text": [
      "/home/mark/.conda/envs/dl/lib/python3.6/site-packages/ipykernel_launcher.py:1: SettingWithCopyWarning: \n",
      "A value is trying to be set on a copy of a slice from a DataFrame.\n",
      "Try using .loc[row_indexer,col_indexer] = value instead\n",
      "\n",
      "See the caveats in the documentation: http://pandas.pydata.org/pandas-docs/stable/indexing.html#indexing-view-versus-copy\n",
      "  \"\"\"Entry point for launching an IPython kernel.\n",
      "/home/mark/.conda/envs/dl/lib/python3.6/site-packages/ipykernel_launcher.py:2: SettingWithCopyWarning: \n",
      "A value is trying to be set on a copy of a slice from a DataFrame.\n",
      "Try using .loc[row_indexer,col_indexer] = value instead\n",
      "\n",
      "See the caveats in the documentation: http://pandas.pydata.org/pandas-docs/stable/indexing.html#indexing-view-versus-copy\n",
      "  \n"
     ]
    },
    {
     "data": {
      "text/html": [
       "<div>\n",
       "<style>\n",
       "    .dataframe thead tr:only-child th {\n",
       "        text-align: right;\n",
       "    }\n",
       "\n",
       "    .dataframe thead th {\n",
       "        text-align: left;\n",
       "    }\n",
       "\n",
       "    .dataframe tbody tr th {\n",
       "        vertical-align: top;\n",
       "    }\n",
       "</style>\n",
       "<table border=\"1\" class=\"dataframe\">\n",
       "  <thead>\n",
       "    <tr style=\"text-align: right;\">\n",
       "      <th></th>\n",
       "      <th>Score</th>\n",
       "      <th>userId</th>\n",
       "      <th>productId</th>\n",
       "    </tr>\n",
       "    <tr>\n",
       "      <th>Id</th>\n",
       "      <th></th>\n",
       "      <th></th>\n",
       "      <th></th>\n",
       "    </tr>\n",
       "  </thead>\n",
       "  <tbody>\n",
       "    <tr>\n",
       "      <th>1</th>\n",
       "      <td>5</td>\n",
       "      <td>0</td>\n",
       "      <td>0</td>\n",
       "    </tr>\n",
       "    <tr>\n",
       "      <th>2</th>\n",
       "      <td>1</td>\n",
       "      <td>1</td>\n",
       "      <td>1</td>\n",
       "    </tr>\n",
       "    <tr>\n",
       "      <th>3</th>\n",
       "      <td>4</td>\n",
       "      <td>2</td>\n",
       "      <td>2</td>\n",
       "    </tr>\n",
       "    <tr>\n",
       "      <th>4</th>\n",
       "      <td>2</td>\n",
       "      <td>3</td>\n",
       "      <td>3</td>\n",
       "    </tr>\n",
       "    <tr>\n",
       "      <th>5</th>\n",
       "      <td>5</td>\n",
       "      <td>4</td>\n",
       "      <td>4</td>\n",
       "    </tr>\n",
       "  </tbody>\n",
       "</table>\n",
       "</div>"
      ],
      "text/plain": [
       "    Score  userId  productId\n",
       "Id                          \n",
       "1       5       0          0\n",
       "2       1       1          1\n",
       "3       4       2          2\n",
       "4       2       3          3\n",
       "5       5       4          4"
      ]
     },
     "execution_count": 13,
     "metadata": {},
     "output_type": "execute_result"
    }
   ],
   "source": [
    "ratings['userId'] = ratings['UserId'].apply(lambda x: userid2idx[x])\n",
    "ratings['productId'] = ratings['ProductId'].apply(lambda x: productid2idx[x])\n",
    "ratings = ratings.drop('UserId',1)\n",
    "ratings = ratings.drop('ProductId',1)\n",
    "ratings.head()"
   ]
  },
  {
   "cell_type": "code",
   "execution_count": 14,
   "metadata": {
    "collapsed": true
   },
   "outputs": [],
   "source": [
    "def stats(column):\n",
    "    return print('Column: {}, Min {}, Max {}, Non-unique {}'.format(column,\n",
    "        ratings[column].min(), ratings[column].max(), ratings[column].nunique()))"
   ]
  },
  {
   "cell_type": "code",
   "execution_count": 15,
   "metadata": {},
   "outputs": [
    {
     "name": "stdout",
     "output_type": "stream",
     "text": [
      "Column: userId, Min 0, Max 256058, Non-unique 256059\n",
      "Column: productId, Min 0, Max 74257, Non-unique 74258\n"
     ]
    }
   ],
   "source": [
    "stats('userId')\n",
    "stats('productId')"
   ]
  },
  {
   "cell_type": "markdown",
   "metadata": {},
   "source": [
    "### Prepare dataset"
   ]
  },
  {
   "cell_type": "markdown",
   "metadata": {},
   "source": [
    "#### Hyperparameters"
   ]
  },
  {
   "cell_type": "code",
   "execution_count": 16,
   "metadata": {
    "collapsed": true
   },
   "outputs": [],
   "source": [
    "# number of latent factors\n",
    "n_factors = 50\n",
    "# learning rate\n",
    "learning_rate = 0.001\n",
    "# batch size\n",
    "batch_size = 256\n",
    "# number of epochs\n",
    "epochs = 20"
   ]
  },
  {
   "cell_type": "code",
   "execution_count": 17,
   "metadata": {
    "collapsed": true
   },
   "outputs": [],
   "source": [
    "np.random.seed = 42"
   ]
  },
  {
   "cell_type": "markdown",
   "metadata": {},
   "source": [
    "Randomly split into training (80%) and validation (20%) set"
   ]
  },
  {
   "cell_type": "code",
   "execution_count": 18,
   "metadata": {},
   "outputs": [
    {
     "name": "stdout",
     "output_type": "stream",
     "text": [
      "Training samples 454278 (0.7991464568812956), Validation samples 114176 (0.2008535431187044)\n"
     ]
    }
   ],
   "source": [
    "msk = np.random.rand(len(ratings)) < 0.8\n",
    "train = ratings[msk]\n",
    "val = ratings[~msk]\n",
    "\n",
    "print('Training samples {} ({}), Validation samples {} ({})'.format(\n",
    "    len(train), len(train)/len(ratings), len(val), len(val)/len(ratings)))"
   ]
  },
  {
   "cell_type": "markdown",
   "metadata": {},
   "source": [
    "### First Model: Dot product\n",
    "The most basic approach is a dot product of a product embedding and a user embedding and add their respective biases."
   ]
  },
  {
   "cell_type": "code",
   "execution_count": 19,
   "metadata": {},
   "outputs": [
    {
     "name": "stderr",
     "output_type": "stream",
     "text": [
      "Using TensorFlow backend.\n"
     ]
    }
   ],
   "source": [
    "from keras.layers import Input, Embedding, dot, Flatten, merge\n",
    "from keras.regularizers import l2\n",
    "from keras.models import Model\n",
    "from keras.optimizers import Adam"
   ]
  },
  {
   "cell_type": "code",
   "execution_count": 20,
   "metadata": {
    "collapsed": true
   },
   "outputs": [],
   "source": [
    "n_users = ratings.userId.nunique()\n",
    "n_products = ratings.productId.nunique()"
   ]
  },
  {
   "cell_type": "code",
   "execution_count": 21,
   "metadata": {
    "collapsed": true
   },
   "outputs": [],
   "source": [
    "def embedding_input(name, n_in, n_out, reg):\n",
    "    inp = Input(shape=(1,), dtype='int64', name=name)\n",
    "    emb = Embedding(n_in, n_out, input_length=1, W_regularizer=l2(reg))(inp)\n",
    "    return inp, emb"
   ]
  },
  {
   "cell_type": "code",
   "execution_count": 22,
   "metadata": {},
   "outputs": [
    {
     "name": "stderr",
     "output_type": "stream",
     "text": [
      "/home/mark/.conda/envs/dl/lib/python3.6/site-packages/ipykernel_launcher.py:3: UserWarning: Update your `Embedding` call to the Keras 2 API: `Embedding(256059, 50, input_length=1, embeddings_regularizer=<keras.reg...)`\n",
      "  This is separate from the ipykernel package so we can avoid doing imports until\n",
      "/home/mark/.conda/envs/dl/lib/python3.6/site-packages/ipykernel_launcher.py:3: UserWarning: Update your `Embedding` call to the Keras 2 API: `Embedding(74258, 50, input_length=1, embeddings_regularizer=<keras.reg...)`\n",
      "  This is separate from the ipykernel package so we can avoid doing imports until\n"
     ]
    }
   ],
   "source": [
    "user_in, user_emb = embedding_input('user_in', n_users, n_factors, 1e-4)\n",
    "prod_in, prod_emb = embedding_input('prod_in', n_products, n_factors, 1e-4)"
   ]
  },
  {
   "cell_type": "code",
   "execution_count": 23,
   "metadata": {
    "collapsed": true
   },
   "outputs": [],
   "source": [
    "def create_bias(inp, n_in):\n",
    "    x = Embedding(n_in, 1, input_length=1)(inp)\n",
    "    return Flatten()(x)"
   ]
  },
  {
   "cell_type": "code",
   "execution_count": 24,
   "metadata": {
    "collapsed": true
   },
   "outputs": [],
   "source": [
    "user_bias = create_bias(user_in, n_users)\n",
    "prod_bias = create_bias(prod_in, n_products)"
   ]
  },
  {
   "cell_type": "code",
   "execution_count": 25,
   "metadata": {},
   "outputs": [
    {
     "name": "stderr",
     "output_type": "stream",
     "text": [
      "/home/mark/.conda/envs/dl/lib/python3.6/site-packages/ipykernel_launcher.py:1: UserWarning: The `merge` function is deprecated and will be removed after 08/2017. Use instead layers from `keras.layers.merge`, e.g. `add`, `concatenate`, etc.\n",
      "  \"\"\"Entry point for launching an IPython kernel.\n",
      "/home/mark/.conda/envs/dl/lib/python3.6/site-packages/keras/legacy/layers.py:458: UserWarning: The `Merge` layer is deprecated and will be removed after 08/2017. Use instead layers from `keras.layers.merge`, e.g. `add`, `concatenate`, etc.\n",
      "  name=name)\n",
      "/home/mark/.conda/envs/dl/lib/python3.6/site-packages/ipykernel_launcher.py:3: UserWarning: The `merge` function is deprecated and will be removed after 08/2017. Use instead layers from `keras.layers.merge`, e.g. `add`, `concatenate`, etc.\n",
      "  This is separate from the ipykernel package so we can avoid doing imports until\n",
      "/home/mark/.conda/envs/dl/lib/python3.6/site-packages/ipykernel_launcher.py:4: UserWarning: The `merge` function is deprecated and will be removed after 08/2017. Use instead layers from `keras.layers.merge`, e.g. `add`, `concatenate`, etc.\n",
      "  after removing the cwd from sys.path.\n"
     ]
    }
   ],
   "source": [
    "x = merge([user_emb, prod_emb], mode='dot')\n",
    "x = Flatten()(x)\n",
    "x = merge([x, user_bias], mode='sum')\n",
    "x = merge([x, prod_bias], mode='sum')\n",
    "\n",
    "model = Model([user_in, prod_in], x)\n",
    "model.compile(Adam(learning_rate), loss='mse', metrics=['accuracy'])"
   ]
  },
  {
   "cell_type": "code",
   "execution_count": 26,
   "metadata": {},
   "outputs": [
    {
     "name": "stdout",
     "output_type": "stream",
     "text": [
      "Train on 454278 samples, validate on 114176 samples\n",
      "Epoch 1/20\n",
      "454278/454278 [==============================] - 23s - loss: 17.8161 - acc: 0.0056 - val_loss: 16.2406 - val_acc: 0.0220\n",
      "Epoch 2/20\n",
      "454278/454278 [==============================] - 22s - loss: 14.9038 - acc: 0.0433 - val_loss: 14.1737 - val_acc: 0.0571\n",
      "Epoch 3/20\n",
      "454278/454278 [==============================] - 22s - loss: 13.0621 - acc: 0.0706 - val_loss: 12.7430 - val_acc: 0.0752\n",
      "Epoch 4/20\n",
      "454278/454278 [==============================] - 22s - loss: 11.6009 - acc: 0.0862 - val_loss: 11.4647 - val_acc: 0.0830\n",
      "Epoch 5/20\n",
      "454278/454278 [==============================] - 22s - loss: 10.2744 - acc: 0.0935 - val_loss: 10.2956 - val_acc: 0.0873\n",
      "Epoch 6/20\n",
      "454278/454278 [==============================] - 22s - loss: 9.0738 - acc: 0.0991 - val_loss: 9.2622 - val_acc: 0.0916\n",
      "Epoch 7/20\n",
      "454278/454278 [==============================] - 22s - loss: 8.0219 - acc: 0.1066 - val_loss: 8.3831 - val_acc: 0.0982\n",
      "Epoch 8/20\n",
      "454278/454278 [==============================] - 22s - loss: 7.1361 - acc: 0.1199 - val_loss: 7.6648 - val_acc: 0.1089\n",
      "Epoch 9/20\n",
      "454278/454278 [==============================] - 22s - loss: 6.4070 - acc: 0.1374 - val_loss: 7.0818 - val_acc: 0.1240\n",
      "Epoch 10/20\n",
      "454278/454278 [==============================] - 22s - loss: 5.8016 - acc: 0.1627 - val_loss: 6.5976 - val_acc: 0.1467\n",
      "Epoch 11/20\n",
      "454278/454278 [==============================] - 22s - loss: 5.2863 - acc: 0.1915 - val_loss: 6.1847 - val_acc: 0.1672\n",
      "Epoch 12/20\n",
      "454278/454278 [==============================] - 22s - loss: 4.8387 - acc: 0.2152 - val_loss: 5.8263 - val_acc: 0.1828\n",
      "Epoch 13/20\n",
      "454278/454278 [==============================] - 22s - loss: 4.4449 - acc: 0.2370 - val_loss: 5.5120 - val_acc: 0.1996\n",
      "Epoch 14/20\n",
      "454278/454278 [==============================] - 22s - loss: 4.0959 - acc: 0.2596 - val_loss: 5.2347 - val_acc: 0.2157\n",
      "Epoch 15/20\n",
      "454278/454278 [==============================] - 22s - loss: 3.7847 - acc: 0.2816 - val_loss: 4.9882 - val_acc: 0.2326\n",
      "Epoch 16/20\n",
      "454278/454278 [==============================] - 22s - loss: 3.5056 - acc: 0.3009 - val_loss: 4.7682 - val_acc: 0.2471\n",
      "Epoch 17/20\n",
      "454278/454278 [==============================] - 22s - loss: 3.2544 - acc: 0.3181 - val_loss: 4.5711 - val_acc: 0.2587\n",
      "Epoch 18/20\n",
      "454278/454278 [==============================] - 22s - loss: 3.0274 - acc: 0.3336 - val_loss: 4.3939 - val_acc: 0.2714\n",
      "Epoch 19/20\n",
      "454278/454278 [==============================] - 22s - loss: 2.8218 - acc: 0.3494 - val_loss: 4.2342 - val_acc: 0.2821\n",
      "Epoch 20/20\n",
      "454278/454278 [==============================] - 22s - loss: 2.6350 - acc: 0.3641 - val_loss: 4.0900 - val_acc: 0.2912\n"
     ]
    },
    {
     "data": {
      "text/plain": [
       "<keras.callbacks.History at 0x7f5c48577748>"
      ]
     },
     "execution_count": 26,
     "metadata": {},
     "output_type": "execute_result"
    }
   ],
   "source": [
    "model.fit([train.userId, train.productId], train.Score, batch_size=batch_size,\n",
    "          epochs=epochs, validation_data=([val.userId, val.productId], val.Score))"
   ]
  },
  {
   "cell_type": "code",
   "execution_count": 27,
   "metadata": {
    "collapsed": true
   },
   "outputs": [],
   "source": [
    "model.save_weights('models/dot.h5')\n",
    "with open('models/dot.json', 'w') as f:\n",
    "    f.write(model.to_json())\n",
    "f.close()"
   ]
  },
  {
   "cell_type": "markdown",
   "metadata": {},
   "source": [
    "### Analyze Results"
   ]
  },
  {
   "cell_type": "code",
   "execution_count": 28,
   "metadata": {
    "collapsed": true
   },
   "outputs": [],
   "source": [
    "model.load_weights('models/dot.h5')"
   ]
  },
  {
   "cell_type": "markdown",
   "metadata": {},
   "source": [
    "We'll restrict to the top 1000 products"
   ]
  },
  {
   "cell_type": "code",
   "execution_count": 29,
   "metadata": {
    "collapsed": true
   },
   "outputs": [],
   "source": [
    "g = ratings.groupby('productId')['Score'].count()\n",
    "top_prods = g.sort_values(ascending=False)[:1000]\n",
    "top_prods = np.array(top_prods.index)"
   ]
  },
  {
   "cell_type": "markdown",
   "metadata": {},
   "source": [
    "#### A look at the product bias term. "
   ]
  },
  {
   "cell_type": "code",
   "execution_count": 30,
   "metadata": {
    "collapsed": true
   },
   "outputs": [],
   "source": [
    "get_prod_bias = Model(prod_in, prod_bias)\n",
    "product_bias = get_prod_bias.predict(top_prods)\n",
    "prod_scores = [(b[0], i) for i,b in zip(top_prods, product_bias)]"
   ]
  },
  {
   "cell_type": "markdown",
   "metadata": {},
   "source": [
    "#####  Top and bottom scores (products)"
   ]
  },
  {
   "cell_type": "code",
   "execution_count": 31,
   "metadata": {
    "collapsed": true
   },
   "outputs": [],
   "source": [
    "from operator import itemgetter"
   ]
  },
  {
   "cell_type": "code",
   "execution_count": 32,
   "metadata": {},
   "outputs": [
    {
     "data": {
      "text/plain": [
       "[(1.3422005, 'B006N3I69A'),\n",
       " (1.5084307, 'B000X1Q1G8'),\n",
       " (1.7365083, 'B003JA5KBW'),\n",
       " (1.7572726, 'B007RTR9DS'),\n",
       " (1.8644536, 'B007RTR9G0'),\n",
       " (1.906934, 'B0041NYV8E'),\n",
       " (2.0875323, 'B006BXV176'),\n",
       " (2.1724749, 'B006MONQMC'),\n",
       " (2.1793909, 'B003YBLF2E'),\n",
       " (2.2242985, 'B005CUU25G'),\n",
       " (2.2535112, 'B008O3G2GG'),\n",
       " (2.2827082, 'B005GYULZY'),\n",
       " (2.2875962, 'B004E4HUMY'),\n",
       " (2.2976708, 'B005GBIXZM'),\n",
       " (2.3044803, 'B004U49QU2')]"
      ]
     },
     "execution_count": 32,
     "metadata": {},
     "output_type": "execute_result"
    }
   ],
   "source": [
    "# Bottom\n",
    "prod_scores = [(b, idx2productid[i]) for b,i in prod_scores]\n",
    "sorted(prod_scores, key=itemgetter(0))[:15]"
   ]
  },
  {
   "cell_type": "code",
   "execution_count": 33,
   "metadata": {},
   "outputs": [
    {
     "data": {
      "text/plain": [
       "[(4.3596163, 'B007R900WA'),\n",
       " (4.3412876, 'B000O5DI1E'),\n",
       " (4.298192, 'B003KRHDMI'),\n",
       " (4.2583861, 'B000CPZSC8'),\n",
       " (4.2534466, 'B000NMJWZO'),\n",
       " (4.231967, 'B001E5DXEU'),\n",
       " (4.2232647, 'B005BRHVD6'),\n",
       " (4.2176037, 'B003QDRJXY'),\n",
       " (4.2129188, 'B003B3OOPA'),\n",
       " (4.1953998, 'B000ET4SM8'),\n",
       " (4.1953926, 'B007JFMH8M'),\n",
       " (4.1851988, 'B000ED9L9E'),\n",
       " (4.1765814, 'B001EQ5JLE'),\n",
       " (4.166079, 'B000DZDJ0K'),\n",
       " (4.1578732, 'B000E1HVR0')]"
      ]
     },
     "execution_count": 33,
     "metadata": {},
     "output_type": "execute_result"
    }
   ],
   "source": [
    "# Top\n",
    "sorted(prod_scores, key=itemgetter(0), reverse=True)[:15]"
   ]
  },
  {
   "cell_type": "markdown",
   "metadata": {},
   "source": [
    "#### A look at the embeddings"
   ]
  },
  {
   "cell_type": "code",
   "execution_count": 34,
   "metadata": {},
   "outputs": [
    {
     "data": {
      "text/plain": [
       "(1000, 50)"
      ]
     },
     "execution_count": 34,
     "metadata": {},
     "output_type": "execute_result"
    }
   ],
   "source": [
    "get_prod_emb = Model(prod_in, prod_emb)\n",
    "product_emb = np.squeeze(get_prod_emb.predict([top_prods]))\n",
    "product_emb.shape"
   ]
  },
  {
   "cell_type": "markdown",
   "metadata": {},
   "source": [
    "It's hard to visualize 50 (n_factors) embeddings, so we use PCA to simplify them down to just 3 vectors"
   ]
  },
  {
   "cell_type": "code",
   "execution_count": 35,
   "metadata": {
    "collapsed": true
   },
   "outputs": [],
   "source": [
    "from sklearn.decomposition import PCA\n",
    "pca = PCA(n_components=3)\n",
    "prod_pca = pca.fit(product_emb.T).components_"
   ]
  },
  {
   "cell_type": "markdown",
   "metadata": {},
   "source": [
    "1st component"
   ]
  },
  {
   "cell_type": "code",
   "execution_count": 36,
   "metadata": {
    "collapsed": true
   },
   "outputs": [],
   "source": [
    "fac0 = prod_pca[0]"
   ]
  },
  {
   "cell_type": "code",
   "execution_count": 37,
   "metadata": {
    "collapsed": true
   },
   "outputs": [],
   "source": [
    "prod_comp = [(f, i) for f,i in zip(fac0, top_prods)]\n",
    "prod_comp = [(b, idx2productid[i]) for b,i in prod_comp]"
   ]
  },
  {
   "cell_type": "code",
   "execution_count": 38,
   "metadata": {},
   "outputs": [
    {
     "data": {
      "text/plain": [
       "[(0.81157336539207381, 'B001OCKIBY'),\n",
       " (0.12140957400438074, 'B004YV80OE'),\n",
       " (0.099166830761096975, 'B005A1LJ04'),\n",
       " (0.096789230912546667, 'B001EQ55ZO'),\n",
       " (0.074578554655234247, 'B005VOOL00'),\n",
       " (0.062280536609135295, 'B00503DOWS'),\n",
       " (0.05402654935495272, 'B005HG9ESG'),\n",
       " (0.033766231225774622, 'B001PMDYV4'),\n",
       " (0.027205268094518981, 'B005ZBZLT4'),\n",
       " (0.021924805409853341, 'B005VOONGM')]"
      ]
     },
     "execution_count": 38,
     "metadata": {},
     "output_type": "execute_result"
    }
   ],
   "source": [
    "sorted(prod_comp, key=itemgetter(0), reverse=True)[:10]"
   ]
  },
  {
   "cell_type": "code",
   "execution_count": 39,
   "metadata": {},
   "outputs": [
    {
     "data": {
      "text/plain": [
       "[(-0.27075668851049217, 'B003BJZMSM'),\n",
       " (-0.26855674959117848, 'B0061IULW2'),\n",
       " (-0.24111692145616787, 'B005VOOLXM'),\n",
       " (-0.23805374247042008, 'B0039ZOZ86'),\n",
       " (-0.092244599300887867, 'B0041NYV8E'),\n",
       " (-0.080101059646441458, 'B001BOQ3SW'),\n",
       " (-0.065068065654438997, 'B005VOOKS8'),\n",
       " (-0.057201845010192674, 'B001BM01BE'),\n",
       " (-0.033232452504461968, 'B001181NBA'),\n",
       " (-0.032807736732446101, 'B004T3QMD8')]"
      ]
     },
     "execution_count": 39,
     "metadata": {},
     "output_type": "execute_result"
    }
   ],
   "source": [
    "sorted(prod_comp, key=itemgetter(0))[:10]"
   ]
  },
  {
   "cell_type": "markdown",
   "metadata": {},
   "source": [
    "### Second Model: Simple Neural Net"
   ]
  },
  {
   "cell_type": "code",
   "execution_count": 40,
   "metadata": {},
   "outputs": [
    {
     "name": "stderr",
     "output_type": "stream",
     "text": [
      "/home/mark/.conda/envs/dl/lib/python3.6/site-packages/ipykernel_launcher.py:3: UserWarning: Update your `Embedding` call to the Keras 2 API: `Embedding(256059, 50, input_length=1, embeddings_regularizer=<keras.reg...)`\n",
      "  This is separate from the ipykernel package so we can avoid doing imports until\n",
      "/home/mark/.conda/envs/dl/lib/python3.6/site-packages/ipykernel_launcher.py:3: UserWarning: Update your `Embedding` call to the Keras 2 API: `Embedding(74258, 50, input_length=1, embeddings_regularizer=<keras.reg...)`\n",
      "  This is separate from the ipykernel package so we can avoid doing imports until\n"
     ]
    }
   ],
   "source": [
    "user_in, user_emb = embedding_input('user_in', n_users, n_factors, 1e-4)\n",
    "prod_in, prod_emb = embedding_input('prod_in', n_products, n_factors, 1e-4)"
   ]
  },
  {
   "cell_type": "code",
   "execution_count": 41,
   "metadata": {
    "collapsed": true
   },
   "outputs": [],
   "source": [
    "from keras.layers import Dropout, Dense"
   ]
  },
  {
   "cell_type": "code",
   "execution_count": 42,
   "metadata": {},
   "outputs": [
    {
     "name": "stderr",
     "output_type": "stream",
     "text": [
      "/home/mark/.conda/envs/dl/lib/python3.6/site-packages/ipykernel_launcher.py:1: UserWarning: The `merge` function is deprecated and will be removed after 08/2017. Use instead layers from `keras.layers.merge`, e.g. `add`, `concatenate`, etc.\n",
      "  \"\"\"Entry point for launching an IPython kernel.\n",
      "/home/mark/.conda/envs/dl/lib/python3.6/site-packages/keras/legacy/layers.py:458: UserWarning: The `Merge` layer is deprecated and will be removed after 08/2017. Use instead layers from `keras.layers.merge`, e.g. `add`, `concatenate`, etc.\n",
      "  name=name)\n"
     ]
    }
   ],
   "source": [
    "x = merge([user_emb, prod_emb], mode='concat')\n",
    "x = Flatten()(x)\n",
    "x = Dropout(0.3)(x)\n",
    "x = Dense(70, activation='relu')(x)\n",
    "x = Dropout(0.75)(x)\n",
    "x = Dense(1)(x)\n",
    "\n",
    "nn = Model([user_in, prod_in], x)\n",
    "nn.compile(Adam(learning_rate), loss='mse', metrics=['accuracy'])"
   ]
  },
  {
   "cell_type": "code",
   "execution_count": 43,
   "metadata": {},
   "outputs": [
    {
     "name": "stdout",
     "output_type": "stream",
     "text": [
      "Train on 454278 samples, validate on 114176 samples\n",
      "Epoch 1/20\n",
      "454278/454278 [==============================] - 23s - loss: 3.5592 - acc: 0.2076 - val_loss: 1.7244 - val_acc: 0.2586\n",
      "Epoch 2/20\n",
      "454278/454278 [==============================] - 22s - loss: 2.2115 - acc: 0.2783 - val_loss: 1.6847 - val_acc: 0.3383\n",
      "Epoch 3/20\n",
      "454278/454278 [==============================] - 22s - loss: 1.6675 - acc: 0.3407 - val_loss: 1.6135 - val_acc: 0.3997\n",
      "Epoch 4/20\n",
      "454278/454278 [==============================] - 22s - loss: 1.2789 - acc: 0.4228 - val_loss: 1.5490 - val_acc: 0.4584\n",
      "Epoch 5/20\n",
      "454278/454278 [==============================] - 22s - loss: 1.1228 - acc: 0.5052 - val_loss: 1.5084 - val_acc: 0.4995\n",
      "Epoch 6/20\n",
      "454278/454278 [==============================] - 22s - loss: 1.0848 - acc: 0.5364 - val_loss: 1.4885 - val_acc: 0.5077\n",
      "Epoch 7/20\n",
      "454278/454278 [==============================] - 22s - loss: 1.0559 - acc: 0.5471 - val_loss: 1.4739 - val_acc: 0.5219\n",
      "Epoch 8/20\n",
      "454278/454278 [==============================] - 22s - loss: 1.0323 - acc: 0.5534 - val_loss: 1.4606 - val_acc: 0.5180\n",
      "Epoch 9/20\n",
      "454278/454278 [==============================] - 22s - loss: 1.0236 - acc: 0.5539 - val_loss: 1.4534 - val_acc: 0.5230\n",
      "Epoch 10/20\n",
      "454278/454278 [==============================] - 22s - loss: 1.0116 - acc: 0.5553 - val_loss: 1.4425 - val_acc: 0.5172\n",
      "Epoch 11/20\n",
      "454278/454278 [==============================] - 22s - loss: 1.0038 - acc: 0.5561 - val_loss: 1.4423 - val_acc: 0.5284\n",
      "Epoch 12/20\n",
      "454278/454278 [==============================] - 23s - loss: 0.9986 - acc: 0.5562 - val_loss: 1.4402 - val_acc: 0.5252\n",
      "Epoch 13/20\n",
      "454278/454278 [==============================] - 23s - loss: 0.9923 - acc: 0.5568 - val_loss: 1.4299 - val_acc: 0.5244\n",
      "Epoch 14/20\n",
      "454278/454278 [==============================] - 22s - loss: 0.9884 - acc: 0.5576 - val_loss: 1.4312 - val_acc: 0.5103\n",
      "Epoch 15/20\n",
      "454278/454278 [==============================] - 22s - loss: 0.9869 - acc: 0.5585 - val_loss: 1.4309 - val_acc: 0.5211\n",
      "Epoch 16/20\n",
      "454278/454278 [==============================] - 23s - loss: 0.9844 - acc: 0.5580 - val_loss: 1.4259 - val_acc: 0.5239\n",
      "Epoch 17/20\n",
      "454278/454278 [==============================] - 22s - loss: 0.9831 - acc: 0.5582 - val_loss: 1.4279 - val_acc: 0.5190\n",
      "Epoch 18/20\n",
      "454278/454278 [==============================] - 22s - loss: 0.9786 - acc: 0.5588 - val_loss: 1.4290 - val_acc: 0.5413\n",
      "Epoch 19/20\n",
      "454278/454278 [==============================] - 22s - loss: 0.9784 - acc: 0.5574 - val_loss: 1.4203 - val_acc: 0.5268\n",
      "Epoch 20/20\n",
      "454278/454278 [==============================] - 22s - loss: 0.9744 - acc: 0.5586 - val_loss: 1.4186 - val_acc: 0.5174\n"
     ]
    },
    {
     "data": {
      "text/plain": [
       "<keras.callbacks.History at 0x7f5ba4e2de80>"
      ]
     },
     "execution_count": 43,
     "metadata": {},
     "output_type": "execute_result"
    }
   ],
   "source": [
    "nn.fit([train.userId, train.productId], train.Score, batch_size=batch_size,\n",
    "       epochs=epochs, validation_data=([val.userId, val.productId], val.Score))"
   ]
  },
  {
   "cell_type": "code",
   "execution_count": 44,
   "metadata": {
    "collapsed": true
   },
   "outputs": [],
   "source": [
    "nn.save_weights('models/nn.h5')\n",
    "with open('models/nn.json', 'w') as f:\n",
    "    f.write(nn.to_json())\n",
    "f.close()"
   ]
  },
  {
   "cell_type": "markdown",
   "metadata": {},
   "source": [
    "### Test models"
   ]
  },
  {
   "cell_type": "code",
   "execution_count": 45,
   "metadata": {},
   "outputs": [
    {
     "name": "stdout",
     "output_type": "stream",
     "text": [
      "    Score  userId  productId\n",
      "Id                          \n",
      "3       4       2          2\n",
      "8       5       7          4\n",
      "10      5       9          6\n",
      "16      5      15          9\n",
      "17      2      16          9\n",
      "18      5      17          9\n",
      "22      5      21          9\n",
      "30      5      10         11\n",
      "33      4      31         13\n",
      "35      5      33         13\n"
     ]
    }
   ],
   "source": [
    "test_ratings = val[:10]\n",
    "print(test_ratings)"
   ]
  },
  {
   "cell_type": "code",
   "execution_count": 46,
   "metadata": {
    "collapsed": true
   },
   "outputs": [],
   "source": [
    "users = test_ratings['userId'].values\n",
    "prods = test_ratings['productId'].values"
   ]
  },
  {
   "cell_type": "code",
   "execution_count": 47,
   "metadata": {},
   "outputs": [
    {
     "name": "stderr",
     "output_type": "stream",
     "text": [
      "/home/mark/.conda/envs/dl/lib/python3.6/site-packages/ipykernel_launcher.py:1: SettingWithCopyWarning: \n",
      "A value is trying to be set on a copy of a slice from a DataFrame.\n",
      "Try using .loc[row_indexer,col_indexer] = value instead\n",
      "\n",
      "See the caveats in the documentation: http://pandas.pydata.org/pandas-docs/stable/indexing.html#indexing-view-versus-copy\n",
      "  \"\"\"Entry point for launching an IPython kernel.\n"
     ]
    }
   ],
   "source": [
    "test_ratings['preds'] = nn.predict([users, prods])"
   ]
  },
  {
   "cell_type": "code",
   "execution_count": 48,
   "metadata": {},
   "outputs": [
    {
     "data": {
      "text/html": [
       "<div>\n",
       "<style>\n",
       "    .dataframe thead tr:only-child th {\n",
       "        text-align: right;\n",
       "    }\n",
       "\n",
       "    .dataframe thead th {\n",
       "        text-align: left;\n",
       "    }\n",
       "\n",
       "    .dataframe tbody tr th {\n",
       "        vertical-align: top;\n",
       "    }\n",
       "</style>\n",
       "<table border=\"1\" class=\"dataframe\">\n",
       "  <thead>\n",
       "    <tr style=\"text-align: right;\">\n",
       "      <th></th>\n",
       "      <th>Score</th>\n",
       "      <th>userId</th>\n",
       "      <th>productId</th>\n",
       "      <th>preds</th>\n",
       "    </tr>\n",
       "    <tr>\n",
       "      <th>Id</th>\n",
       "      <th></th>\n",
       "      <th></th>\n",
       "      <th></th>\n",
       "      <th></th>\n",
       "    </tr>\n",
       "  </thead>\n",
       "  <tbody>\n",
       "    <tr>\n",
       "      <th>3</th>\n",
       "      <td>4</td>\n",
       "      <td>2</td>\n",
       "      <td>2</td>\n",
       "      <td>4.534613</td>\n",
       "    </tr>\n",
       "    <tr>\n",
       "      <th>8</th>\n",
       "      <td>5</td>\n",
       "      <td>7</td>\n",
       "      <td>4</td>\n",
       "      <td>4.450095</td>\n",
       "    </tr>\n",
       "    <tr>\n",
       "      <th>10</th>\n",
       "      <td>5</td>\n",
       "      <td>9</td>\n",
       "      <td>6</td>\n",
       "      <td>4.910298</td>\n",
       "    </tr>\n",
       "    <tr>\n",
       "      <th>16</th>\n",
       "      <td>5</td>\n",
       "      <td>15</td>\n",
       "      <td>9</td>\n",
       "      <td>4.488890</td>\n",
       "    </tr>\n",
       "    <tr>\n",
       "      <th>17</th>\n",
       "      <td>2</td>\n",
       "      <td>16</td>\n",
       "      <td>9</td>\n",
       "      <td>3.086109</td>\n",
       "    </tr>\n",
       "    <tr>\n",
       "      <th>18</th>\n",
       "      <td>5</td>\n",
       "      <td>17</td>\n",
       "      <td>9</td>\n",
       "      <td>4.488890</td>\n",
       "    </tr>\n",
       "    <tr>\n",
       "      <th>22</th>\n",
       "      <td>5</td>\n",
       "      <td>21</td>\n",
       "      <td>9</td>\n",
       "      <td>4.835280</td>\n",
       "    </tr>\n",
       "    <tr>\n",
       "      <th>30</th>\n",
       "      <td>5</td>\n",
       "      <td>10</td>\n",
       "      <td>11</td>\n",
       "      <td>4.936732</td>\n",
       "    </tr>\n",
       "    <tr>\n",
       "      <th>33</th>\n",
       "      <td>4</td>\n",
       "      <td>31</td>\n",
       "      <td>13</td>\n",
       "      <td>4.237014</td>\n",
       "    </tr>\n",
       "    <tr>\n",
       "      <th>35</th>\n",
       "      <td>5</td>\n",
       "      <td>33</td>\n",
       "      <td>13</td>\n",
       "      <td>4.334737</td>\n",
       "    </tr>\n",
       "  </tbody>\n",
       "</table>\n",
       "</div>"
      ],
      "text/plain": [
       "    Score  userId  productId     preds\n",
       "Id                                    \n",
       "3       4       2          2  4.534613\n",
       "8       5       7          4  4.450095\n",
       "10      5       9          6  4.910298\n",
       "16      5      15          9  4.488890\n",
       "17      2      16          9  3.086109\n",
       "18      5      17          9  4.488890\n",
       "22      5      21          9  4.835280\n",
       "30      5      10         11  4.936732\n",
       "33      4      31         13  4.237014\n",
       "35      5      33         13  4.334737"
      ]
     },
     "execution_count": 48,
     "metadata": {},
     "output_type": "execute_result"
    }
   ],
   "source": [
    "test_ratings"
   ]
  },
  {
   "cell_type": "markdown",
   "metadata": {},
   "source": [
    "## 2. Sentiment Analysis"
   ]
  },
  {
   "cell_type": "code",
   "execution_count": null,
   "metadata": {
    "collapsed": true
   },
   "outputs": [],
   "source": []
  }
 ],
 "metadata": {
  "kernelspec": {
   "display_name": "Python 3",
   "language": "python",
   "name": "python3"
  },
  "language_info": {
   "codemirror_mode": {
    "name": "ipython",
    "version": 3
   },
   "file_extension": ".py",
   "mimetype": "text/x-python",
   "name": "python",
   "nbconvert_exporter": "python",
   "pygments_lexer": "ipython3",
   "version": "3.6.1"
  }
 },
 "nbformat": 4,
 "nbformat_minor": 2
}
